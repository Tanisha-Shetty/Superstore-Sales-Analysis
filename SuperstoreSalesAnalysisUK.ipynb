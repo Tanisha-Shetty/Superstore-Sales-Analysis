{
 "cells": [
  {
   "cell_type": "code",
   "execution_count": 4,
   "metadata": {},
   "outputs": [],
   "source": [
    "import pandas as pd\n",
    "import matplotlib.pyplot as plt\n",
    "%matplotlib inline\n",
    "import seaborn as sns\n",
    "import numpy as np\n",
    "import datetime\n",
    "import plotly.express as px\n",
    "import warnings\n",
    "warnings.simplefilter(action=\"ignore\", category=FutureWarning)"
   ]
  },
  {
   "cell_type": "code",
   "execution_count": 53,
   "metadata": {},
   "outputs": [
    {
     "data": {
      "text/html": [
       "<div>\n",
       "<style scoped>\n",
       "    .dataframe tbody tr th:only-of-type {\n",
       "        vertical-align: middle;\n",
       "    }\n",
       "\n",
       "    .dataframe tbody tr th {\n",
       "        vertical-align: top;\n",
       "    }\n",
       "\n",
       "    .dataframe thead th {\n",
       "        text-align: right;\n",
       "    }\n",
       "</style>\n",
       "<table border=\"1\" class=\"dataframe\">\n",
       "  <thead>\n",
       "    <tr style=\"text-align: right;\">\n",
       "      <th></th>\n",
       "      <th>Row ID</th>\n",
       "      <th>Order ID</th>\n",
       "      <th>Order Date</th>\n",
       "      <th>Ship Date</th>\n",
       "      <th>Ship Mode</th>\n",
       "      <th>Customer ID</th>\n",
       "      <th>Customer Name</th>\n",
       "      <th>Segment</th>\n",
       "      <th>City</th>\n",
       "      <th>State</th>\n",
       "      <th>...</th>\n",
       "      <th>Product ID</th>\n",
       "      <th>Category</th>\n",
       "      <th>Sub-Category</th>\n",
       "      <th>Product Name</th>\n",
       "      <th>Sales</th>\n",
       "      <th>Quantity</th>\n",
       "      <th>Discount</th>\n",
       "      <th>Profit</th>\n",
       "      <th>Shipping Cost</th>\n",
       "      <th>Order Priority</th>\n",
       "    </tr>\n",
       "  </thead>\n",
       "  <tbody>\n",
       "    <tr>\n",
       "      <th>0</th>\n",
       "      <td>1</td>\n",
       "      <td>ES-2013-2860574</td>\n",
       "      <td>27/02/2013</td>\n",
       "      <td>01/03/2013</td>\n",
       "      <td>Second Class</td>\n",
       "      <td>LB-16795</td>\n",
       "      <td>Laurel Beltran</td>\n",
       "      <td>Home Office</td>\n",
       "      <td>Edinburgh</td>\n",
       "      <td>Scotland</td>\n",
       "      <td>...</td>\n",
       "      <td>OFF-AP-10003590</td>\n",
       "      <td>Office Supplies</td>\n",
       "      <td>Appliances</td>\n",
       "      <td>KitchenAid Refrigerator, Black</td>\n",
       "      <td>5273.700</td>\n",
       "      <td>10</td>\n",
       "      <td>0.0</td>\n",
       "      <td>1898.400</td>\n",
       "      <td>730.91</td>\n",
       "      <td>High</td>\n",
       "    </tr>\n",
       "    <tr>\n",
       "      <th>1</th>\n",
       "      <td>2</td>\n",
       "      <td>ES-2014-2637201</td>\n",
       "      <td>14/01/2014</td>\n",
       "      <td>18/01/2014</td>\n",
       "      <td>Standard Class</td>\n",
       "      <td>PO-18865</td>\n",
       "      <td>Patrick O'Donnell</td>\n",
       "      <td>Consumer</td>\n",
       "      <td>Stockton-on-Tees</td>\n",
       "      <td>England</td>\n",
       "      <td>...</td>\n",
       "      <td>TEC-CO-10000013</td>\n",
       "      <td>Technology</td>\n",
       "      <td>Copiers</td>\n",
       "      <td>Brother Fax Machine, Laser</td>\n",
       "      <td>4141.020</td>\n",
       "      <td>13</td>\n",
       "      <td>0.0</td>\n",
       "      <td>1697.670</td>\n",
       "      <td>668.96</td>\n",
       "      <td>High</td>\n",
       "    </tr>\n",
       "    <tr>\n",
       "      <th>2</th>\n",
       "      <td>3</td>\n",
       "      <td>ES-2012-5877219</td>\n",
       "      <td>13/12/2012</td>\n",
       "      <td>17/12/2012</td>\n",
       "      <td>Standard Class</td>\n",
       "      <td>GT-14710</td>\n",
       "      <td>Greg Tran</td>\n",
       "      <td>Consumer</td>\n",
       "      <td>Huddersfield</td>\n",
       "      <td>England</td>\n",
       "      <td>...</td>\n",
       "      <td>TEC-PH-10004583</td>\n",
       "      <td>Technology</td>\n",
       "      <td>Phones</td>\n",
       "      <td>Motorola Smart Phone, Cordless</td>\n",
       "      <td>5785.020</td>\n",
       "      <td>9</td>\n",
       "      <td>0.0</td>\n",
       "      <td>404.730</td>\n",
       "      <td>656.73</td>\n",
       "      <td>High</td>\n",
       "    </tr>\n",
       "    <tr>\n",
       "      <th>3</th>\n",
       "      <td>4</td>\n",
       "      <td>ES-2012-2058076</td>\n",
       "      <td>20/09/2012</td>\n",
       "      <td>22/09/2012</td>\n",
       "      <td>Second Class</td>\n",
       "      <td>AB-10150</td>\n",
       "      <td>Aimee Bixby</td>\n",
       "      <td>Consumer</td>\n",
       "      <td>London</td>\n",
       "      <td>England</td>\n",
       "      <td>...</td>\n",
       "      <td>TEC-PH-10004505</td>\n",
       "      <td>Technology</td>\n",
       "      <td>Phones</td>\n",
       "      <td>Nokia Smart Phone, Full Size</td>\n",
       "      <td>3441.690</td>\n",
       "      <td>6</td>\n",
       "      <td>0.1</td>\n",
       "      <td>38.070</td>\n",
       "      <td>585.25</td>\n",
       "      <td>High</td>\n",
       "    </tr>\n",
       "    <tr>\n",
       "      <th>4</th>\n",
       "      <td>5</td>\n",
       "      <td>ES-2011-2257437</td>\n",
       "      <td>10/08/2011</td>\n",
       "      <td>17/08/2011</td>\n",
       "      <td>Standard Class</td>\n",
       "      <td>BP-11155</td>\n",
       "      <td>Becky Pak</td>\n",
       "      <td>Consumer</td>\n",
       "      <td>London</td>\n",
       "      <td>England</td>\n",
       "      <td>...</td>\n",
       "      <td>TEC-PH-10002759</td>\n",
       "      <td>Technology</td>\n",
       "      <td>Phones</td>\n",
       "      <td>Cisco Smart Phone, Cordless</td>\n",
       "      <td>5276.988</td>\n",
       "      <td>9</td>\n",
       "      <td>0.1</td>\n",
       "      <td>1758.888</td>\n",
       "      <td>454.81</td>\n",
       "      <td>Medium</td>\n",
       "    </tr>\n",
       "  </tbody>\n",
       "</table>\n",
       "<p>5 rows × 24 columns</p>\n",
       "</div>"
      ],
      "text/plain": [
       "   Row ID         Order ID  Order Date   Ship Date       Ship Mode  \\\n",
       "0       1  ES-2013-2860574  27/02/2013  01/03/2013    Second Class   \n",
       "1       2  ES-2014-2637201  14/01/2014  18/01/2014  Standard Class   \n",
       "2       3  ES-2012-5877219  13/12/2012  17/12/2012  Standard Class   \n",
       "3       4  ES-2012-2058076  20/09/2012  22/09/2012    Second Class   \n",
       "4       5  ES-2011-2257437  10/08/2011  17/08/2011  Standard Class   \n",
       "\n",
       "  Customer ID      Customer Name      Segment              City     State  \\\n",
       "0    LB-16795     Laurel Beltran  Home Office         Edinburgh  Scotland   \n",
       "1    PO-18865  Patrick O'Donnell     Consumer  Stockton-on-Tees   England   \n",
       "2    GT-14710          Greg Tran     Consumer      Huddersfield   England   \n",
       "3    AB-10150        Aimee Bixby     Consumer            London   England   \n",
       "4    BP-11155          Becky Pak     Consumer            London   England   \n",
       "\n",
       "   ...       Product ID         Category Sub-Category  \\\n",
       "0  ...  OFF-AP-10003590  Office Supplies   Appliances   \n",
       "1  ...  TEC-CO-10000013       Technology      Copiers   \n",
       "2  ...  TEC-PH-10004583       Technology       Phones   \n",
       "3  ...  TEC-PH-10004505       Technology       Phones   \n",
       "4  ...  TEC-PH-10002759       Technology       Phones   \n",
       "\n",
       "                     Product Name     Sales Quantity Discount    Profit  \\\n",
       "0  KitchenAid Refrigerator, Black  5273.700       10      0.0  1898.400   \n",
       "1      Brother Fax Machine, Laser  4141.020       13      0.0  1697.670   \n",
       "2  Motorola Smart Phone, Cordless  5785.020        9      0.0   404.730   \n",
       "3    Nokia Smart Phone, Full Size  3441.690        6      0.1    38.070   \n",
       "4     Cisco Smart Phone, Cordless  5276.988        9      0.1  1758.888   \n",
       "\n",
       "   Shipping Cost  Order Priority  \n",
       "0         730.91            High  \n",
       "1         668.96            High  \n",
       "2         656.73            High  \n",
       "3         585.25            High  \n",
       "4         454.81          Medium  \n",
       "\n",
       "[5 rows x 24 columns]"
      ]
     },
     "execution_count": 53,
     "metadata": {},
     "output_type": "execute_result"
    }
   ],
   "source": [
    "#Reading the file and saving it in a pandas dataframe\n",
    "SuperstoreSales = pd.read_csv('SuperstoreSalesUK.csv', encoding= 'unicode_escape', parse_dates=True)\n",
    "SuperstoreSales.head()"
   ]
  },
  {
   "cell_type": "code",
   "execution_count": 79,
   "metadata": {},
   "outputs": [
    {
     "name": "stdout",
     "output_type": "stream",
     "text": [
      "Row ID            False\n",
      "Order ID          False\n",
      "Order Date        False\n",
      "Ship Date         False\n",
      "Ship Mode         False\n",
      "Customer ID       False\n",
      "Customer Name     False\n",
      "Segment           False\n",
      "City              False\n",
      "State             False\n",
      "Country           False\n",
      "Postal Code        True\n",
      "Market            False\n",
      "Region            False\n",
      "Product ID        False\n",
      "Category          False\n",
      "Sub-Category      False\n",
      "Product Name      False\n",
      "Sales             False\n",
      "Quantity          False\n",
      "Discount          False\n",
      "Profit            False\n",
      "Shipping Cost     False\n",
      "Order Priority    False\n",
      "Year              False\n",
      "dtype: bool\n",
      "Row ID               0\n",
      "Order ID             0\n",
      "Order Date           0\n",
      "Ship Date            0\n",
      "Ship Mode            0\n",
      "Customer ID          0\n",
      "Customer Name        0\n",
      "Segment              0\n",
      "City                 0\n",
      "State                0\n",
      "Country              0\n",
      "Postal Code       1633\n",
      "Market               0\n",
      "Region               0\n",
      "Product ID           0\n",
      "Category             0\n",
      "Sub-Category         0\n",
      "Product Name         0\n",
      "Sales                0\n",
      "Quantity             0\n",
      "Discount             0\n",
      "Profit               0\n",
      "Shipping Cost        0\n",
      "Order Priority       0\n",
      "Year                 0\n",
      "dtype: int64\n",
      "<class 'pandas.core.frame.DataFrame'>\n",
      "RangeIndex: 1633 entries, 0 to 1632\n",
      "Data columns (total 21 columns):\n",
      " #   Column          Non-Null Count  Dtype         \n",
      "---  ------          --------------  -----         \n",
      " 0   Order ID        1633 non-null   object        \n",
      " 1   Order Date      1633 non-null   datetime64[ns]\n",
      " 2   Ship Date       1633 non-null   datetime64[ns]\n",
      " 3   Ship Mode       1633 non-null   object        \n",
      " 4   Customer ID     1633 non-null   object        \n",
      " 5   Customer Name   1633 non-null   object        \n",
      " 6   Segment         1633 non-null   object        \n",
      " 7   City            1633 non-null   object        \n",
      " 8   State           1633 non-null   object        \n",
      " 9   Country         1633 non-null   object        \n",
      " 10  Product ID      1633 non-null   object        \n",
      " 11  Category        1633 non-null   object        \n",
      " 12  Sub-Category    1633 non-null   object        \n",
      " 13  Product Name    1633 non-null   object        \n",
      " 14  Sales           1633 non-null   float64       \n",
      " 15  Quantity        1633 non-null   int64         \n",
      " 16  Discount        1633 non-null   float64       \n",
      " 17  Profit          1633 non-null   float64       \n",
      " 18  Shipping Cost   1633 non-null   float64       \n",
      " 19  Order Priority  1633 non-null   object        \n",
      " 20  Year            1633 non-null   object        \n",
      "dtypes: datetime64[ns](2), float64(4), int64(1), object(14)\n",
      "memory usage: 268.0+ KB\n"
     ]
    }
   ],
   "source": [
    "#check for missing values\n",
    "\n",
    "print(SuperstoreSales.isna().any())\n",
    "# We observe null values in the Postal Code field of the data. Let's evaluate the number of null values in this field.\n",
    "\n",
    "print(SuperstoreSales.isna().sum())\n",
    "\n",
    "# Counting the number of null values, we see all the orders have null values for Postal Code. \n",
    "# This field is not very important for our analysis, deleting this column along with the row ID, Market and Region\n",
    "del SuperstoreSales['Row ID']\n",
    "del SuperstoreSales['Postal Code']\n",
    "del SuperstoreSales['Market']\n",
    "del SuperstoreSales['Region']\n",
    "\n",
    "SuperstoreSales.info()"
   ]
  },
  {
   "cell_type": "code",
   "execution_count": 68,
   "metadata": {},
   "outputs": [
    {
     "name": "stdout",
     "output_type": "stream",
     "text": [
      "<class 'pandas.core.frame.DataFrame'>\n",
      "RangeIndex: 1633 entries, 0 to 1632\n",
      "Data columns (total 25 columns):\n",
      " #   Column          Non-Null Count  Dtype         \n",
      "---  ------          --------------  -----         \n",
      " 0   Row ID          1633 non-null   int64         \n",
      " 1   Order ID        1633 non-null   object        \n",
      " 2   Order Date      1633 non-null   datetime64[ns]\n",
      " 3   Ship Date       1633 non-null   datetime64[ns]\n",
      " 4   Ship Mode       1633 non-null   object        \n",
      " 5   Customer ID     1633 non-null   object        \n",
      " 6   Customer Name   1633 non-null   object        \n",
      " 7   Segment         1633 non-null   object        \n",
      " 8   City            1633 non-null   object        \n",
      " 9   State           1633 non-null   object        \n",
      " 10  Country         1633 non-null   object        \n",
      " 11  Postal Code     0 non-null      float64       \n",
      " 12  Market          1633 non-null   object        \n",
      " 13  Region          1633 non-null   object        \n",
      " 14  Product ID      1633 non-null   object        \n",
      " 15  Category        1633 non-null   object        \n",
      " 16  Sub-Category    1633 non-null   object        \n",
      " 17  Product Name    1633 non-null   object        \n",
      " 18  Sales           1633 non-null   float64       \n",
      " 19  Quantity        1633 non-null   int64         \n",
      " 20  Discount        1633 non-null   float64       \n",
      " 21  Profit          1633 non-null   float64       \n",
      " 22  Shipping Cost   1633 non-null   float64       \n",
      " 23  Order Priority  1633 non-null   object        \n",
      " 24  Year            1633 non-null   object        \n",
      "dtypes: datetime64[ns](2), float64(5), int64(2), object(16)\n",
      "memory usage: 319.1+ KB\n"
     ]
    },
    {
     "data": {
      "text/html": [
       "<div>\n",
       "<style scoped>\n",
       "    .dataframe tbody tr th:only-of-type {\n",
       "        vertical-align: middle;\n",
       "    }\n",
       "\n",
       "    .dataframe tbody tr th {\n",
       "        vertical-align: top;\n",
       "    }\n",
       "\n",
       "    .dataframe thead th {\n",
       "        text-align: right;\n",
       "    }\n",
       "</style>\n",
       "<table border=\"1\" class=\"dataframe\">\n",
       "  <thead>\n",
       "    <tr style=\"text-align: right;\">\n",
       "      <th></th>\n",
       "      <th>Row ID</th>\n",
       "      <th>Order ID</th>\n",
       "      <th>Order Date</th>\n",
       "      <th>Ship Date</th>\n",
       "      <th>Ship Mode</th>\n",
       "      <th>Customer ID</th>\n",
       "      <th>Customer Name</th>\n",
       "      <th>Segment</th>\n",
       "      <th>City</th>\n",
       "      <th>State</th>\n",
       "      <th>...</th>\n",
       "      <th>Category</th>\n",
       "      <th>Sub-Category</th>\n",
       "      <th>Product Name</th>\n",
       "      <th>Sales</th>\n",
       "      <th>Quantity</th>\n",
       "      <th>Discount</th>\n",
       "      <th>Profit</th>\n",
       "      <th>Shipping Cost</th>\n",
       "      <th>Order Priority</th>\n",
       "      <th>Year</th>\n",
       "    </tr>\n",
       "  </thead>\n",
       "  <tbody>\n",
       "    <tr>\n",
       "      <th>0</th>\n",
       "      <td>1</td>\n",
       "      <td>ES-2013-2860574</td>\n",
       "      <td>2013-02-27</td>\n",
       "      <td>2013-03-01</td>\n",
       "      <td>Second Class</td>\n",
       "      <td>LB-16795</td>\n",
       "      <td>Laurel Beltran</td>\n",
       "      <td>Home Office</td>\n",
       "      <td>Edinburgh</td>\n",
       "      <td>Scotland</td>\n",
       "      <td>...</td>\n",
       "      <td>Office Supplies</td>\n",
       "      <td>Appliances</td>\n",
       "      <td>KitchenAid Refrigerator, Black</td>\n",
       "      <td>5273.700</td>\n",
       "      <td>10</td>\n",
       "      <td>0.0</td>\n",
       "      <td>1898.400</td>\n",
       "      <td>730.91</td>\n",
       "      <td>High</td>\n",
       "      <td>2013</td>\n",
       "    </tr>\n",
       "    <tr>\n",
       "      <th>1</th>\n",
       "      <td>2</td>\n",
       "      <td>ES-2014-2637201</td>\n",
       "      <td>2014-01-14</td>\n",
       "      <td>2014-01-18</td>\n",
       "      <td>Standard Class</td>\n",
       "      <td>PO-18865</td>\n",
       "      <td>Patrick O'Donnell</td>\n",
       "      <td>Consumer</td>\n",
       "      <td>Stockton-on-Tees</td>\n",
       "      <td>England</td>\n",
       "      <td>...</td>\n",
       "      <td>Technology</td>\n",
       "      <td>Copiers</td>\n",
       "      <td>Brother Fax Machine, Laser</td>\n",
       "      <td>4141.020</td>\n",
       "      <td>13</td>\n",
       "      <td>0.0</td>\n",
       "      <td>1697.670</td>\n",
       "      <td>668.96</td>\n",
       "      <td>High</td>\n",
       "      <td>2014</td>\n",
       "    </tr>\n",
       "    <tr>\n",
       "      <th>2</th>\n",
       "      <td>3</td>\n",
       "      <td>ES-2012-5877219</td>\n",
       "      <td>2012-12-13</td>\n",
       "      <td>2012-12-17</td>\n",
       "      <td>Standard Class</td>\n",
       "      <td>GT-14710</td>\n",
       "      <td>Greg Tran</td>\n",
       "      <td>Consumer</td>\n",
       "      <td>Huddersfield</td>\n",
       "      <td>England</td>\n",
       "      <td>...</td>\n",
       "      <td>Technology</td>\n",
       "      <td>Phones</td>\n",
       "      <td>Motorola Smart Phone, Cordless</td>\n",
       "      <td>5785.020</td>\n",
       "      <td>9</td>\n",
       "      <td>0.0</td>\n",
       "      <td>404.730</td>\n",
       "      <td>656.73</td>\n",
       "      <td>High</td>\n",
       "      <td>2012</td>\n",
       "    </tr>\n",
       "    <tr>\n",
       "      <th>3</th>\n",
       "      <td>4</td>\n",
       "      <td>ES-2012-2058076</td>\n",
       "      <td>2012-09-20</td>\n",
       "      <td>2012-09-22</td>\n",
       "      <td>Second Class</td>\n",
       "      <td>AB-10150</td>\n",
       "      <td>Aimee Bixby</td>\n",
       "      <td>Consumer</td>\n",
       "      <td>London</td>\n",
       "      <td>England</td>\n",
       "      <td>...</td>\n",
       "      <td>Technology</td>\n",
       "      <td>Phones</td>\n",
       "      <td>Nokia Smart Phone, Full Size</td>\n",
       "      <td>3441.690</td>\n",
       "      <td>6</td>\n",
       "      <td>0.1</td>\n",
       "      <td>38.070</td>\n",
       "      <td>585.25</td>\n",
       "      <td>High</td>\n",
       "      <td>2012</td>\n",
       "    </tr>\n",
       "    <tr>\n",
       "      <th>4</th>\n",
       "      <td>5</td>\n",
       "      <td>ES-2011-2257437</td>\n",
       "      <td>2011-08-10</td>\n",
       "      <td>2011-08-17</td>\n",
       "      <td>Standard Class</td>\n",
       "      <td>BP-11155</td>\n",
       "      <td>Becky Pak</td>\n",
       "      <td>Consumer</td>\n",
       "      <td>London</td>\n",
       "      <td>England</td>\n",
       "      <td>...</td>\n",
       "      <td>Technology</td>\n",
       "      <td>Phones</td>\n",
       "      <td>Cisco Smart Phone, Cordless</td>\n",
       "      <td>5276.988</td>\n",
       "      <td>9</td>\n",
       "      <td>0.1</td>\n",
       "      <td>1758.888</td>\n",
       "      <td>454.81</td>\n",
       "      <td>Medium</td>\n",
       "      <td>2011</td>\n",
       "    </tr>\n",
       "  </tbody>\n",
       "</table>\n",
       "<p>5 rows × 25 columns</p>\n",
       "</div>"
      ],
      "text/plain": [
       "   Row ID         Order ID Order Date  Ship Date       Ship Mode Customer ID  \\\n",
       "0       1  ES-2013-2860574 2013-02-27 2013-03-01    Second Class    LB-16795   \n",
       "1       2  ES-2014-2637201 2014-01-14 2014-01-18  Standard Class    PO-18865   \n",
       "2       3  ES-2012-5877219 2012-12-13 2012-12-17  Standard Class    GT-14710   \n",
       "3       4  ES-2012-2058076 2012-09-20 2012-09-22    Second Class    AB-10150   \n",
       "4       5  ES-2011-2257437 2011-08-10 2011-08-17  Standard Class    BP-11155   \n",
       "\n",
       "       Customer Name      Segment              City     State  ...  \\\n",
       "0     Laurel Beltran  Home Office         Edinburgh  Scotland  ...   \n",
       "1  Patrick O'Donnell     Consumer  Stockton-on-Tees   England  ...   \n",
       "2          Greg Tran     Consumer      Huddersfield   England  ...   \n",
       "3        Aimee Bixby     Consumer            London   England  ...   \n",
       "4          Becky Pak     Consumer            London   England  ...   \n",
       "\n",
       "          Category  Sub-Category                    Product Name     Sales  \\\n",
       "0  Office Supplies    Appliances  KitchenAid Refrigerator, Black  5273.700   \n",
       "1       Technology       Copiers      Brother Fax Machine, Laser  4141.020   \n",
       "2       Technology        Phones  Motorola Smart Phone, Cordless  5785.020   \n",
       "3       Technology        Phones    Nokia Smart Phone, Full Size  3441.690   \n",
       "4       Technology        Phones     Cisco Smart Phone, Cordless  5276.988   \n",
       "\n",
       "  Quantity Discount    Profit Shipping Cost  Order Priority  Year  \n",
       "0       10      0.0  1898.400        730.91            High  2013  \n",
       "1       13      0.0  1697.670        668.96            High  2014  \n",
       "2        9      0.0   404.730        656.73            High  2012  \n",
       "3        6      0.1    38.070        585.25            High  2012  \n",
       "4        9      0.1  1758.888        454.81          Medium  2011  \n",
       "\n",
       "[5 rows x 25 columns]"
      ]
     },
     "execution_count": 68,
     "metadata": {},
     "output_type": "execute_result"
    }
   ],
   "source": [
    "#correcting date format\n",
    "\n",
    "SuperstoreSales['Order Date'] = pd.to_datetime(SuperstoreSales['Order Date'], errors ='coerce', dayfirst=True)\n",
    "SuperstoreSales['Ship Date'] = pd.to_datetime(SuperstoreSales['Ship Date'], errors ='coerce', dayfirst=True)\n",
    "format = \"%Y/%m/%d\"\n",
    "SuperstoreSales.info()\n",
    "SuperstoreSales.head()"
   ]
  },
  {
   "cell_type": "code",
   "execution_count": 69,
   "metadata": {},
   "outputs": [
    {
     "data": {
      "text/plain": [
       "Row ID            1633\n",
       "Order ID           775\n",
       "Order Date         604\n",
       "Ship Date          615\n",
       "Ship Mode            4\n",
       "Customer ID        529\n",
       "Customer Name      529\n",
       "Segment              3\n",
       "City               164\n",
       "State                3\n",
       "Country              1\n",
       "Postal Code          0\n",
       "Market               1\n",
       "Region               1\n",
       "Product ID        1010\n",
       "Category             3\n",
       "Sub-Category        17\n",
       "Product Name       997\n",
       "Sales             1455\n",
       "Quantity            14\n",
       "Discount             6\n",
       "Profit            1272\n",
       "Shipping Cost     1334\n",
       "Order Priority       4\n",
       "Year                 4\n",
       "dtype: int64"
      ]
     },
     "execution_count": 69,
     "metadata": {},
     "output_type": "execute_result"
    }
   ],
   "source": [
    "#Finding unique instances of all fields\n",
    "SuperstoreSales.nunique()"
   ]
  },
  {
   "cell_type": "code",
   "execution_count": 70,
   "metadata": {},
   "outputs": [
    {
     "data": {
      "text/html": [
       "<div>\n",
       "<style scoped>\n",
       "    .dataframe tbody tr th:only-of-type {\n",
       "        vertical-align: middle;\n",
       "    }\n",
       "\n",
       "    .dataframe tbody tr th {\n",
       "        vertical-align: top;\n",
       "    }\n",
       "\n",
       "    .dataframe thead th {\n",
       "        text-align: right;\n",
       "    }\n",
       "</style>\n",
       "<table border=\"1\" class=\"dataframe\">\n",
       "  <thead>\n",
       "    <tr style=\"text-align: right;\">\n",
       "      <th></th>\n",
       "      <th>Row ID</th>\n",
       "      <th>Postal Code</th>\n",
       "      <th>Sales</th>\n",
       "      <th>Quantity</th>\n",
       "      <th>Discount</th>\n",
       "      <th>Profit</th>\n",
       "      <th>Shipping Cost</th>\n",
       "    </tr>\n",
       "  </thead>\n",
       "  <tbody>\n",
       "    <tr>\n",
       "      <th>count</th>\n",
       "      <td>1633.00000</td>\n",
       "      <td>0.0</td>\n",
       "      <td>1633.000000</td>\n",
       "      <td>1633.000000</td>\n",
       "      <td>1633.000000</td>\n",
       "      <td>1633.00000</td>\n",
       "      <td>1633.000000</td>\n",
       "    </tr>\n",
       "    <tr>\n",
       "      <th>mean</th>\n",
       "      <td>817.00000</td>\n",
       "      <td>NaN</td>\n",
       "      <td>323.684201</td>\n",
       "      <td>3.772811</td>\n",
       "      <td>0.065707</td>\n",
       "      <td>68.52428</td>\n",
       "      <td>32.810945</td>\n",
       "    </tr>\n",
       "    <tr>\n",
       "      <th>std</th>\n",
       "      <td>471.55081</td>\n",
       "      <td>NaN</td>\n",
       "      <td>566.326238</td>\n",
       "      <td>2.177862</td>\n",
       "      <td>0.144803</td>\n",
       "      <td>188.60708</td>\n",
       "      <td>61.235127</td>\n",
       "    </tr>\n",
       "    <tr>\n",
       "      <th>min</th>\n",
       "      <td>1.00000</td>\n",
       "      <td>NaN</td>\n",
       "      <td>4.500000</td>\n",
       "      <td>1.000000</td>\n",
       "      <td>0.000000</td>\n",
       "      <td>-686.97000</td>\n",
       "      <td>0.030000</td>\n",
       "    </tr>\n",
       "    <tr>\n",
       "      <th>25%</th>\n",
       "      <td>409.00000</td>\n",
       "      <td>NaN</td>\n",
       "      <td>48.000000</td>\n",
       "      <td>2.000000</td>\n",
       "      <td>0.000000</td>\n",
       "      <td>4.89600</td>\n",
       "      <td>4.180000</td>\n",
       "    </tr>\n",
       "    <tr>\n",
       "      <th>50%</th>\n",
       "      <td>817.00000</td>\n",
       "      <td>NaN</td>\n",
       "      <td>122.031000</td>\n",
       "      <td>3.000000</td>\n",
       "      <td>0.000000</td>\n",
       "      <td>19.14000</td>\n",
       "      <td>11.340000</td>\n",
       "    </tr>\n",
       "    <tr>\n",
       "      <th>75%</th>\n",
       "      <td>1225.00000</td>\n",
       "      <td>NaN</td>\n",
       "      <td>342.720000</td>\n",
       "      <td>5.000000</td>\n",
       "      <td>0.100000</td>\n",
       "      <td>65.88000</td>\n",
       "      <td>33.670000</td>\n",
       "    </tr>\n",
       "    <tr>\n",
       "      <th>max</th>\n",
       "      <td>1633.00000</td>\n",
       "      <td>NaN</td>\n",
       "      <td>5785.020000</td>\n",
       "      <td>14.000000</td>\n",
       "      <td>0.800000</td>\n",
       "      <td>2461.32000</td>\n",
       "      <td>730.910000</td>\n",
       "    </tr>\n",
       "  </tbody>\n",
       "</table>\n",
       "</div>"
      ],
      "text/plain": [
       "           Row ID  Postal Code        Sales     Quantity     Discount  \\\n",
       "count  1633.00000          0.0  1633.000000  1633.000000  1633.000000   \n",
       "mean    817.00000          NaN   323.684201     3.772811     0.065707   \n",
       "std     471.55081          NaN   566.326238     2.177862     0.144803   \n",
       "min       1.00000          NaN     4.500000     1.000000     0.000000   \n",
       "25%     409.00000          NaN    48.000000     2.000000     0.000000   \n",
       "50%     817.00000          NaN   122.031000     3.000000     0.000000   \n",
       "75%    1225.00000          NaN   342.720000     5.000000     0.100000   \n",
       "max    1633.00000          NaN  5785.020000    14.000000     0.800000   \n",
       "\n",
       "           Profit  Shipping Cost  \n",
       "count  1633.00000    1633.000000  \n",
       "mean     68.52428      32.810945  \n",
       "std     188.60708      61.235127  \n",
       "min    -686.97000       0.030000  \n",
       "25%       4.89600       4.180000  \n",
       "50%      19.14000      11.340000  \n",
       "75%      65.88000      33.670000  \n",
       "max    2461.32000     730.910000  "
      ]
     },
     "execution_count": 70,
     "metadata": {},
     "output_type": "execute_result"
    }
   ],
   "source": [
    "# Dataframe at a glance. \n",
    "SuperstoreSales.describe()"
   ]
  },
  {
   "cell_type": "code",
   "execution_count": 71,
   "metadata": {},
   "outputs": [
    {
     "name": "stdout",
     "output_type": "stream",
     "text": [
      "The total sales recorded is : 528576.0\n",
      "The total quantity sold is is : 6161\n",
      "The total profit made by the store is : 111900.0\n"
     ]
    }
   ],
   "source": [
    "# Store's performance in terms of total sales, quantity and profit\n",
    "\n",
    "print(\"The total sales recorded is :\",round(sum(SuperstoreSales['Sales']), 0))\n",
    "print(\"The total quantity sold is is :\",round(sum(SuperstoreSales['Quantity']), 0))\n",
    "print(\"The total profit made by the store is :\",round(sum(SuperstoreSales['Profit']), 0))"
   ]
  },
  {
   "cell_type": "code",
   "execution_count": 72,
   "metadata": {},
   "outputs": [
    {
     "data": {
      "image/png": "[encoded data removed]",
      "text/plain": [
       "<Figure size 720x288 with 1 Axes>"
      ]
     },
     "metadata": {
      "needs_background": "light"
     },
     "output_type": "display_data"
    }
   ],
   "source": [
    "#Top 10 cities by Sale\n",
    "# sorting city- wise aggregated sum of sales.\n",
    "\n",
    "df_SaleTop10=SuperstoreSales.groupby('City')['Sales'].sum().reset_index()\n",
    "df_SaleTop10sorted = df_SaleTop10.sort_values('Sales',ascending=False).head(10)\n",
    "df_SaleTop10sorted\n",
    "\n",
    "#Plotting the data\n",
    "sns.barplot(x='City', y='Sales', data=df_SaleTop10sorted, palette='ocean_r')\n",
    "plt.xticks(rotation=90, fontsize = 12)\n",
    "plt.yticks(fontsize = 12)\n",
    "plt.title('Top 10 cities by Sales');"
   ]
  },
  {
   "cell_type": "code",
   "execution_count": 73,
   "metadata": {},
   "outputs": [
    {
     "data": {
      "image/png": "[encoded data removed]",
      "text/plain": [
       "<Figure size 720x288 with 1 Axes>"
      ]
     },
     "metadata": {
      "needs_background": "light"
     },
     "output_type": "display_data"
    }
   ],
   "source": [
    "#Top 10 cities by Profit\n",
    "# sorting city- wise aggregated sum of profit.\n",
    "\n",
    "df_ProfitTop10=SuperstoreSales.groupby('City')['Profit'].sum().reset_index()\n",
    "df_ProfitTop10sorted = df_ProfitTop10.sort_values('Profit',ascending=False).head(10)\n",
    "df_ProfitTop10sorted\n",
    "\n",
    "#Plotting the data\n",
    "sns.barplot(x='City', y='Profit', data=df_ProfitTop10sorted, palette='ocean_r')\n",
    "plt.xticks(rotation=90, fontsize = 12)\n",
    "plt.yticks(fontsize = 12)\n",
    "plt.title('Top 10 cities by Profit');"
   ]
  },
  {
   "cell_type": "code",
   "execution_count": 74,
   "metadata": {},
   "outputs": [
    {
     "data": {
      "text/html": [
       "<div>\n",
       "<style scoped>\n",
       "    .dataframe tbody tr th:only-of-type {\n",
       "        vertical-align: middle;\n",
       "    }\n",
       "\n",
       "    .dataframe tbody tr th {\n",
       "        vertical-align: top;\n",
       "    }\n",
       "\n",
       "    .dataframe thead th {\n",
       "        text-align: right;\n",
       "    }\n",
       "</style>\n",
       "<table border=\"1\" class=\"dataframe\">\n",
       "  <thead>\n",
       "    <tr style=\"text-align: right;\">\n",
       "      <th></th>\n",
       "      <th>Row ID</th>\n",
       "      <th>Order ID</th>\n",
       "      <th>Order Date</th>\n",
       "      <th>Ship Date</th>\n",
       "      <th>Ship Mode</th>\n",
       "      <th>Customer ID</th>\n",
       "      <th>Customer Name</th>\n",
       "      <th>Segment</th>\n",
       "      <th>City</th>\n",
       "      <th>State</th>\n",
       "      <th>...</th>\n",
       "      <th>Category</th>\n",
       "      <th>Sub-Category</th>\n",
       "      <th>Product Name</th>\n",
       "      <th>Sales</th>\n",
       "      <th>Quantity</th>\n",
       "      <th>Discount</th>\n",
       "      <th>Profit</th>\n",
       "      <th>Shipping Cost</th>\n",
       "      <th>Order Priority</th>\n",
       "      <th>Year</th>\n",
       "    </tr>\n",
       "  </thead>\n",
       "  <tbody>\n",
       "    <tr>\n",
       "      <th>0</th>\n",
       "      <td>1</td>\n",
       "      <td>ES-2013-2860574</td>\n",
       "      <td>2013-02-27</td>\n",
       "      <td>2013-03-01</td>\n",
       "      <td>Second Class</td>\n",
       "      <td>LB-16795</td>\n",
       "      <td>Laurel Beltran</td>\n",
       "      <td>Home Office</td>\n",
       "      <td>Edinburgh</td>\n",
       "      <td>Scotland</td>\n",
       "      <td>...</td>\n",
       "      <td>Office Supplies</td>\n",
       "      <td>Appliances</td>\n",
       "      <td>KitchenAid Refrigerator, Black</td>\n",
       "      <td>5273.700</td>\n",
       "      <td>10</td>\n",
       "      <td>0.0</td>\n",
       "      <td>1898.400</td>\n",
       "      <td>730.91</td>\n",
       "      <td>High</td>\n",
       "      <td>2013</td>\n",
       "    </tr>\n",
       "    <tr>\n",
       "      <th>1</th>\n",
       "      <td>2</td>\n",
       "      <td>ES-2014-2637201</td>\n",
       "      <td>2014-01-14</td>\n",
       "      <td>2014-01-18</td>\n",
       "      <td>Standard Class</td>\n",
       "      <td>PO-18865</td>\n",
       "      <td>Patrick O'Donnell</td>\n",
       "      <td>Consumer</td>\n",
       "      <td>Stockton-on-Tees</td>\n",
       "      <td>England</td>\n",
       "      <td>...</td>\n",
       "      <td>Technology</td>\n",
       "      <td>Copiers</td>\n",
       "      <td>Brother Fax Machine, Laser</td>\n",
       "      <td>4141.020</td>\n",
       "      <td>13</td>\n",
       "      <td>0.0</td>\n",
       "      <td>1697.670</td>\n",
       "      <td>668.96</td>\n",
       "      <td>High</td>\n",
       "      <td>2014</td>\n",
       "    </tr>\n",
       "    <tr>\n",
       "      <th>2</th>\n",
       "      <td>3</td>\n",
       "      <td>ES-2012-5877219</td>\n",
       "      <td>2012-12-13</td>\n",
       "      <td>2012-12-17</td>\n",
       "      <td>Standard Class</td>\n",
       "      <td>GT-14710</td>\n",
       "      <td>Greg Tran</td>\n",
       "      <td>Consumer</td>\n",
       "      <td>Huddersfield</td>\n",
       "      <td>England</td>\n",
       "      <td>...</td>\n",
       "      <td>Technology</td>\n",
       "      <td>Phones</td>\n",
       "      <td>Motorola Smart Phone, Cordless</td>\n",
       "      <td>5785.020</td>\n",
       "      <td>9</td>\n",
       "      <td>0.0</td>\n",
       "      <td>404.730</td>\n",
       "      <td>656.73</td>\n",
       "      <td>High</td>\n",
       "      <td>2012</td>\n",
       "    </tr>\n",
       "    <tr>\n",
       "      <th>3</th>\n",
       "      <td>4</td>\n",
       "      <td>ES-2012-2058076</td>\n",
       "      <td>2012-09-20</td>\n",
       "      <td>2012-09-22</td>\n",
       "      <td>Second Class</td>\n",
       "      <td>AB-10150</td>\n",
       "      <td>Aimee Bixby</td>\n",
       "      <td>Consumer</td>\n",
       "      <td>London</td>\n",
       "      <td>England</td>\n",
       "      <td>...</td>\n",
       "      <td>Technology</td>\n",
       "      <td>Phones</td>\n",
       "      <td>Nokia Smart Phone, Full Size</td>\n",
       "      <td>3441.690</td>\n",
       "      <td>6</td>\n",
       "      <td>0.1</td>\n",
       "      <td>38.070</td>\n",
       "      <td>585.25</td>\n",
       "      <td>High</td>\n",
       "      <td>2012</td>\n",
       "    </tr>\n",
       "    <tr>\n",
       "      <th>4</th>\n",
       "      <td>5</td>\n",
       "      <td>ES-2011-2257437</td>\n",
       "      <td>2011-08-10</td>\n",
       "      <td>2011-08-17</td>\n",
       "      <td>Standard Class</td>\n",
       "      <td>BP-11155</td>\n",
       "      <td>Becky Pak</td>\n",
       "      <td>Consumer</td>\n",
       "      <td>London</td>\n",
       "      <td>England</td>\n",
       "      <td>...</td>\n",
       "      <td>Technology</td>\n",
       "      <td>Phones</td>\n",
       "      <td>Cisco Smart Phone, Cordless</td>\n",
       "      <td>5276.988</td>\n",
       "      <td>9</td>\n",
       "      <td>0.1</td>\n",
       "      <td>1758.888</td>\n",
       "      <td>454.81</td>\n",
       "      <td>Medium</td>\n",
       "      <td>2011</td>\n",
       "    </tr>\n",
       "  </tbody>\n",
       "</table>\n",
       "<p>5 rows × 25 columns</p>\n",
       "</div>"
      ],
      "text/plain": [
       "   Row ID         Order ID Order Date  Ship Date       Ship Mode Customer ID  \\\n",
       "0       1  ES-2013-2860574 2013-02-27 2013-03-01    Second Class    LB-16795   \n",
       "1       2  ES-2014-2637201 2014-01-14 2014-01-18  Standard Class    PO-18865   \n",
       "2       3  ES-2012-5877219 2012-12-13 2012-12-17  Standard Class    GT-14710   \n",
       "3       4  ES-2012-2058076 2012-09-20 2012-09-22    Second Class    AB-10150   \n",
       "4       5  ES-2011-2257437 2011-08-10 2011-08-17  Standard Class    BP-11155   \n",
       "\n",
       "       Customer Name      Segment              City     State  ...  \\\n",
       "0     Laurel Beltran  Home Office         Edinburgh  Scotland  ...   \n",
       "1  Patrick O'Donnell     Consumer  Stockton-on-Tees   England  ...   \n",
       "2          Greg Tran     Consumer      Huddersfield   England  ...   \n",
       "3        Aimee Bixby     Consumer            London   England  ...   \n",
       "4          Becky Pak     Consumer            London   England  ...   \n",
       "\n",
       "          Category  Sub-Category                    Product Name     Sales  \\\n",
       "0  Office Supplies    Appliances  KitchenAid Refrigerator, Black  5273.700   \n",
       "1       Technology       Copiers      Brother Fax Machine, Laser  4141.020   \n",
       "2       Technology        Phones  Motorola Smart Phone, Cordless  5785.020   \n",
       "3       Technology        Phones    Nokia Smart Phone, Full Size  3441.690   \n",
       "4       Technology        Phones     Cisco Smart Phone, Cordless  5276.988   \n",
       "\n",
       "  Quantity Discount    Profit Shipping Cost  Order Priority  Year  \n",
       "0       10      0.0  1898.400        730.91            High  2013  \n",
       "1       13      0.0  1697.670        668.96            High  2014  \n",
       "2        9      0.0   404.730        656.73            High  2012  \n",
       "3        6      0.1    38.070        585.25            High  2012  \n",
       "4        9      0.1  1758.888        454.81          Medium  2011  \n",
       "\n",
       "[5 rows x 25 columns]"
      ]
     },
     "execution_count": 74,
     "metadata": {},
     "output_type": "execute_result"
    }
   ],
   "source": [
    "SuperstoreSales.head()"
   ]
  },
  {
   "cell_type": "code",
   "execution_count": 157,
   "metadata": {},
   "outputs": [
    {
     "data": {
      "image/png": "[encoded data removed]",
      "text/plain": [
       "<Figure size 720x288 with 1 Axes>"
      ]
     },
     "metadata": {
      "needs_background": "light"
     },
     "output_type": "display_data"
    }
   ],
   "source": [
    "#Sub-category level Sales and profit\n",
    "\n",
    "colormap = ['navy', 'Teal']\n",
    "plt.rcParams[\"figure.figsize\"] = (10,4)\n",
    "fig = SuperstoreSales.groupby('Sub-Category')['Sales','Profit'].agg(['sum']).plot.bar(color=colormap)\n",
    "plt.title('Sub-Category level total Sales & Profit')\n",
    "plt.legend(loc=2, title='Legend');"
   ]
  },
  {
   "cell_type": "code",
   "execution_count": 158,
   "metadata": {},
   "outputs": [
    {
     "data": {
      "image/png": "[encoded data removed]",
      "text/plain": [
       "<Figure size 720x216 with 2 Axes>"
      ]
     },
     "metadata": {
      "needs_background": "light"
     },
     "output_type": "display_data"
    }
   ],
   "source": [
    "# Correlation heatmap\n",
    "fig, ax = plt.subplots(figsize=(10,3))\n",
    "# sns.set()\n",
    "sns.heatmap(np.round(SuperstoreSales.corr(),2),annot=True, cmap='Blues')\n",
    "plt.yticks(rotation=360)\n",
    "plt.title('Correlation matrix');"
   ]
  },
  {
   "cell_type": "code",
   "execution_count": 159,
   "metadata": {},
   "outputs": [
    {
     "data": {
      "text/html": [
       "<div>\n",
       "<style scoped>\n",
       "    .dataframe tbody tr th:only-of-type {\n",
       "        vertical-align: middle;\n",
       "    }\n",
       "\n",
       "    .dataframe tbody tr th {\n",
       "        vertical-align: top;\n",
       "    }\n",
       "\n",
       "    .dataframe thead th {\n",
       "        text-align: right;\n",
       "    }\n",
       "</style>\n",
       "<table border=\"1\" class=\"dataframe\">\n",
       "  <thead>\n",
       "    <tr style=\"text-align: right;\">\n",
       "      <th></th>\n",
       "      <th>Year</th>\n",
       "      <th>Sales</th>\n",
       "      <th>Quantity</th>\n",
       "      <th>Profit</th>\n",
       "      <th>Shipping Cost</th>\n",
       "      <th>Order ID</th>\n",
       "      <th>Customer ID</th>\n",
       "      <th>Discount</th>\n",
       "    </tr>\n",
       "  </thead>\n",
       "  <tbody>\n",
       "    <tr>\n",
       "      <th>0</th>\n",
       "      <td>2011</td>\n",
       "      <td>86188.551</td>\n",
       "      <td>878</td>\n",
       "      <td>20080.0</td>\n",
       "      <td>8950.0</td>\n",
       "      <td>130</td>\n",
       "      <td>129</td>\n",
       "      <td>0.0640</td>\n",
       "    </tr>\n",
       "    <tr>\n",
       "      <th>1</th>\n",
       "      <td>2012</td>\n",
       "      <td>124335.906</td>\n",
       "      <td>1523</td>\n",
       "      <td>27366.0</td>\n",
       "      <td>11657.0</td>\n",
       "      <td>186</td>\n",
       "      <td>175</td>\n",
       "      <td>0.0712</td>\n",
       "    </tr>\n",
       "    <tr>\n",
       "      <th>2</th>\n",
       "      <td>2013</td>\n",
       "      <td>124046.802</td>\n",
       "      <td>1401</td>\n",
       "      <td>27698.0</td>\n",
       "      <td>13019.0</td>\n",
       "      <td>194</td>\n",
       "      <td>176</td>\n",
       "      <td>0.0705</td>\n",
       "    </tr>\n",
       "    <tr>\n",
       "      <th>3</th>\n",
       "      <td>2014</td>\n",
       "      <td>194005.041</td>\n",
       "      <td>2359</td>\n",
       "      <td>36756.0</td>\n",
       "      <td>19955.0</td>\n",
       "      <td>265</td>\n",
       "      <td>255</td>\n",
       "      <td>0.0599</td>\n",
       "    </tr>\n",
       "  </tbody>\n",
       "</table>\n",
       "</div>"
      ],
      "text/plain": [
       "   Year       Sales  Quantity   Profit  Shipping Cost  Order ID  Customer ID  \\\n",
       "0  2011   86188.551       878  20080.0         8950.0       130          129   \n",
       "1  2012  124335.906      1523  27366.0        11657.0       186          175   \n",
       "2  2013  124046.802      1401  27698.0        13019.0       194          176   \n",
       "3  2014  194005.041      2359  36756.0        19955.0       265          255   \n",
       "\n",
       "   Discount  \n",
       "0    0.0640  \n",
       "1    0.0712  \n",
       "2    0.0705  \n",
       "3    0.0599  "
      ]
     },
     "execution_count": 159,
     "metadata": {},
     "output_type": "execute_result"
    }
   ],
   "source": [
    "#Summarizing the data yearly\n",
    "SuperstoreSales['Year'] = SuperstoreSales['Order Date'].apply(lambda x: x.strftime('%Y'))\n",
    "\n",
    "year =  [*range(2011, 2015, 1)]\n",
    "dfYear = pd.Series(year)\n",
    "\n",
    "YoYSale = (SuperstoreSales.groupby(['Year'])['Sales'].sum())\n",
    "YoYQuantity = round(SuperstoreSales.groupby(['Year'])['Quantity'].sum(),0)\n",
    "YoYProfit = round(SuperstoreSales.groupby(['Year'])['Profit'].sum(),0)\n",
    "YoYShippingCost = round(SuperstoreSales.groupby(['Year'])['Shipping Cost'].sum(),0)\n",
    "YoYOrders = round(SuperstoreSales.groupby(['Year'])['Order ID'].nunique(),0)\n",
    "YoYCustomers = round(SuperstoreSales.groupby(['Year'])['Customer ID'].nunique(),0)\n",
    "YoYDiscount = round(SuperstoreSales.groupby(['Year'])['Discount'].mean(),4)\n",
    "\n",
    "YoY = pd.concat([YoYSale, YoYQuantity, YoYProfit, YoYShippingCost,YoYOrders,YoYCustomers,YoYDiscount], axis=1).reset_index()\n",
    "# YoY.set_index('Year')\n",
    "YoY"
   ]
  },
  {
   "cell_type": "code",
   "execution_count": 164,
   "metadata": {},
   "outputs": [
    {
     "data": {
      "text/html": [
       "<style  type=\"text/css\" >\n",
       "</style><table id=\"T_ea4c559e_9ef3_11eb_89d8_2cdb07331a70\" ><thead>    <tr>        <th class=\"blank level0\" ></th>        <th class=\"col_heading level0 col0\" >Sales</th>        <th class=\"col_heading level0 col1\" >Quantity</th>        <th class=\"col_heading level0 col2\" >Profit</th>        <th class=\"col_heading level0 col3\" >Shipping Cost</th>        <th class=\"col_heading level0 col4\" >No._of Orders</th>        <th class=\"col_heading level0 col5\" >No._of Customers</th>    </tr>    <tr>        <th class=\"index_name level0\" >Year</th>        <th class=\"blank\" ></th>        <th class=\"blank\" ></th>        <th class=\"blank\" ></th>        <th class=\"blank\" ></th>        <th class=\"blank\" ></th>        <th class=\"blank\" ></th>    </tr></thead><tbody>\n",
       "                <tr>\n",
       "                        <th id=\"T_ea4c559e_9ef3_11eb_89d8_2cdb07331a70level0_row0\" class=\"row_heading level0 row0\" >2011</th>\n",
       "                        <td id=\"T_ea4c559e_9ef3_11eb_89d8_2cdb07331a70row0_col0\" class=\"data row0 col0\" >nan%</td>\n",
       "                        <td id=\"T_ea4c559e_9ef3_11eb_89d8_2cdb07331a70row0_col1\" class=\"data row0 col1\" >nan%</td>\n",
       "                        <td id=\"T_ea4c559e_9ef3_11eb_89d8_2cdb07331a70row0_col2\" class=\"data row0 col2\" >nan%</td>\n",
       "                        <td id=\"T_ea4c559e_9ef3_11eb_89d8_2cdb07331a70row0_col3\" class=\"data row0 col3\" >nan%</td>\n",
       "                        <td id=\"T_ea4c559e_9ef3_11eb_89d8_2cdb07331a70row0_col4\" class=\"data row0 col4\" >nan%</td>\n",
       "                        <td id=\"T_ea4c559e_9ef3_11eb_89d8_2cdb07331a70row0_col5\" class=\"data row0 col5\" >nan%</td>\n",
       "            </tr>\n",
       "            <tr>\n",
       "                        <th id=\"T_ea4c559e_9ef3_11eb_89d8_2cdb07331a70level0_row1\" class=\"row_heading level0 row1\" >2012</th>\n",
       "                        <td id=\"T_ea4c559e_9ef3_11eb_89d8_2cdb07331a70row1_col0\" class=\"data row1 col0\" >44.26%</td>\n",
       "                        <td id=\"T_ea4c559e_9ef3_11eb_89d8_2cdb07331a70row1_col1\" class=\"data row1 col1\" >73.46%</td>\n",
       "                        <td id=\"T_ea4c559e_9ef3_11eb_89d8_2cdb07331a70row1_col2\" class=\"data row1 col2\" >36.28%</td>\n",
       "                        <td id=\"T_ea4c559e_9ef3_11eb_89d8_2cdb07331a70row1_col3\" class=\"data row1 col3\" >30.25%</td>\n",
       "                        <td id=\"T_ea4c559e_9ef3_11eb_89d8_2cdb07331a70row1_col4\" class=\"data row1 col4\" >43.08%</td>\n",
       "                        <td id=\"T_ea4c559e_9ef3_11eb_89d8_2cdb07331a70row1_col5\" class=\"data row1 col5\" >35.66%</td>\n",
       "            </tr>\n",
       "            <tr>\n",
       "                        <th id=\"T_ea4c559e_9ef3_11eb_89d8_2cdb07331a70level0_row2\" class=\"row_heading level0 row2\" >2013</th>\n",
       "                        <td id=\"T_ea4c559e_9ef3_11eb_89d8_2cdb07331a70row2_col0\" class=\"data row2 col0\" >-0.23%</td>\n",
       "                        <td id=\"T_ea4c559e_9ef3_11eb_89d8_2cdb07331a70row2_col1\" class=\"data row2 col1\" >-8.01%</td>\n",
       "                        <td id=\"T_ea4c559e_9ef3_11eb_89d8_2cdb07331a70row2_col2\" class=\"data row2 col2\" >1.21%</td>\n",
       "                        <td id=\"T_ea4c559e_9ef3_11eb_89d8_2cdb07331a70row2_col3\" class=\"data row2 col3\" >11.68%</td>\n",
       "                        <td id=\"T_ea4c559e_9ef3_11eb_89d8_2cdb07331a70row2_col4\" class=\"data row2 col4\" >4.30%</td>\n",
       "                        <td id=\"T_ea4c559e_9ef3_11eb_89d8_2cdb07331a70row2_col5\" class=\"data row2 col5\" >0.57%</td>\n",
       "            </tr>\n",
       "            <tr>\n",
       "                        <th id=\"T_ea4c559e_9ef3_11eb_89d8_2cdb07331a70level0_row3\" class=\"row_heading level0 row3\" >2014</th>\n",
       "                        <td id=\"T_ea4c559e_9ef3_11eb_89d8_2cdb07331a70row3_col0\" class=\"data row3 col0\" >56.40%</td>\n",
       "                        <td id=\"T_ea4c559e_9ef3_11eb_89d8_2cdb07331a70row3_col1\" class=\"data row3 col1\" >68.38%</td>\n",
       "                        <td id=\"T_ea4c559e_9ef3_11eb_89d8_2cdb07331a70row3_col2\" class=\"data row3 col2\" >32.70%</td>\n",
       "                        <td id=\"T_ea4c559e_9ef3_11eb_89d8_2cdb07331a70row3_col3\" class=\"data row3 col3\" >53.28%</td>\n",
       "                        <td id=\"T_ea4c559e_9ef3_11eb_89d8_2cdb07331a70row3_col4\" class=\"data row3 col4\" >36.60%</td>\n",
       "                        <td id=\"T_ea4c559e_9ef3_11eb_89d8_2cdb07331a70row3_col5\" class=\"data row3 col5\" >44.89%</td>\n",
       "            </tr>\n",
       "    </tbody></table>"
      ],
      "text/plain": [
       "<pandas.io.formats.style.Styler at 0x18b92a0a7f0>"
      ]
     },
     "execution_count": 164,
     "metadata": {},
     "output_type": "execute_result"
    }
   ],
   "source": [
    "YoYGrowth = YoY.copy()\n",
    "YoYGrowth['No._of Orders'] = YoY['Order ID']\n",
    "YoYGrowth['No._of Customers'] = YoY['Customer ID']\n",
    "pct = YoYGrowth[['Sales','Quantity', 'Profit', 'Shipping Cost', 'No._of Orders', 'No._of Customers']].astype(float).pct_change()\n",
    "pct['Year'] = YoY['Year']\n",
    "YoYGrowth2 = pct.set_index('Year')\n",
    "YoYGrowth2.style.format(\"{:.2%}\")"
   ]
  },
  {
   "cell_type": "code",
   "execution_count": 160,
   "metadata": {},
   "outputs": [
    {
     "data": {
      "image/png": "[encoded data removed]",
      "text/plain": [
       "<Figure size 720x288 with 2 Axes>"
      ]
     },
     "metadata": {
      "needs_background": "light"
     },
     "output_type": "display_data"
    }
   ],
   "source": [
    "#Analysing yearly Sales behaviour with discount\n",
    "\n",
    "fig,ax = plt.subplots()\n",
    "ax.plot(YoY.Year, YoY.Sales, color=\"red\", marker=\"o\")\n",
    "ax.set_title(\"Twin plots\")\n",
    "ax.set_xlabel(\"year\",fontsize=14)\n",
    "ax.set_ylabel(\"Sales\",color=\"red\",fontsize=14)\n",
    "\n",
    "ax2=ax.twinx()\n",
    "# twinx() to help us make a plot with two different y axis\n",
    "ax2.plot(YoY['Year'], YoY['Discount'], color=\"black\",marker=\"o\")\n",
    "ax2.set_ylabel(\"Discount%\",color=\"black\",fontsize=14)\n",
    "plt.show()"
   ]
  },
  {
   "cell_type": "code",
   "execution_count": 161,
   "metadata": {},
   "outputs": [
    {
     "data": {
      "application/vnd.plotly.v1+json": {
       "config": {
        "plotlyServerURL": "https://plot.ly"
       },
       "data": [
        {
         "branchvalues": "total",
         "customdata": [
          [
           454.0008511796226
          ],
          [
           1244.8990804886398
          ],
          [
           958.7943774435332
          ],
          [
           1730.8398471657513
          ],
          [
           2029.7649588751099
          ],
          [
           3764.1991807311742
          ],
          [
           198.2776345581116
          ],
          [
           139.69667973510505
          ],
          [
           187.6829679075974
          ],
          [
           176.29987574164838
          ],
          [
           138.2980381867542
          ],
          [
           153.50333177159828
          ],
          [
           1268.9288414460636
          ],
          [
           1031.3657344310384
          ],
          [
           1484.1255646271163
          ],
          [
           1443.7512126120314
          ],
          [
           411.39847222014436
          ],
          [
           1134.5625733324314
          ],
          [
           1584.9590812411743
          ],
          [
           1115.6769999511225
          ],
          [
           1205.8891793958892
          ],
          [
           156.75721579564816
          ],
          [
           212.38503726163836
          ],
          [
           197.59247135082597
          ],
          [
           64.01048368959037
          ],
          [
           65.66741695357948
          ],
          [
           69.51076879697891
          ],
          [
           195.43912922349665
          ],
          [
           157.47724607200465
          ],
          [
           206.9694236887677
          ],
          [
           53.99756877231666
          ],
          [
           51.98662552391465
          ],
          [
           57.10655850927659
          ],
          [
           971.8253225767473
          ],
          [
           1092.1654971806104
          ],
          [
           690.0018731974333
          ],
          [
           146.04004523938056
          ],
          [
           114.84685331070604
          ],
          [
           115.07666264757401
          ],
          [
           2951.5324997053967
          ],
          [
           1677.4931543912185
          ],
          [
           943.5647457310681
          ],
          [
           455.2782398962606
          ],
          [
           980.8489961188527
          ],
          [
           501.00102365671637
          ],
          [
           275.5669143253484
          ],
          [
           175.209767980854
          ],
          [
           193.8182552067384
          ],
          [
           2960.090630527128
          ],
          [
           3074.644238899431
          ],
          [
           1100.8251637293833
          ],
          [
           1643.6023227689914
          ],
          [
           1395.225956273558
          ],
          [
           1227.2030439414746
          ],
          [
           702.231155410949
          ],
          [
           924.666153764993
          ],
          [
           1242.369222002976
          ],
          [
           1933.6294505059966
          ],
          [
           1312.2447832641549
          ],
          [
           976.620103989682
          ],
          [
           1442.0467496742401
          ],
          [
           1207.1438322590088
          ],
          [
           1130.9785404383667
          ],
          [
           1313.9364420962463
          ]
         ],
         "domain": {
          "x": [
           0,
           1
          ],
          "y": [
           0,
           1
          ]
         },
         "hovertemplate": "labels=%{label}<br>Sales_sum=%{value}<br>parent=%{parent}<br>id=%{id}<br>Sales=%{color}<extra></extra>",
         "ids": [
          "United Kingdom/Consumer/Technology/Accessories",
          "United Kingdom/Corporate/Technology/Accessories",
          "United Kingdom/Home Office/Technology/Accessories",
          "United Kingdom/Consumer/Office Supplies/Appliances",
          "United Kingdom/Corporate/Office Supplies/Appliances",
          "United Kingdom/Home Office/Office Supplies/Appliances",
          "United Kingdom/Consumer/Office Supplies/Art",
          "United Kingdom/Corporate/Office Supplies/Art",
          "United Kingdom/Home Office/Office Supplies/Art",
          "United Kingdom/Consumer/Office Supplies/Binders",
          "United Kingdom/Corporate/Office Supplies/Binders",
          "United Kingdom/Home Office/Office Supplies/Binders",
          "United Kingdom/Consumer/Furniture/Bookcases",
          "United Kingdom/Corporate/Furniture/Bookcases",
          "United Kingdom/Home Office/Furniture/Bookcases",
          "United Kingdom/Consumer/Furniture/Chairs",
          "United Kingdom/Corporate/Furniture/Chairs",
          "United Kingdom/Home Office/Furniture/Chairs",
          "United Kingdom/Consumer/Technology/Copiers",
          "United Kingdom/Corporate/Technology/Copiers",
          "United Kingdom/Home Office/Technology/Copiers",
          "United Kingdom/Consumer/Office Supplies/Envelopes",
          "United Kingdom/Corporate/Office Supplies/Envelopes",
          "United Kingdom/Home Office/Office Supplies/Envelopes",
          "United Kingdom/Consumer/Office Supplies/Fasteners",
          "United Kingdom/Corporate/Office Supplies/Fasteners",
          "United Kingdom/Home Office/Office Supplies/Fasteners",
          "United Kingdom/Consumer/Furniture/Furnishings",
          "United Kingdom/Corporate/Furniture/Furnishings",
          "United Kingdom/Home Office/Furniture/Furnishings",
          "United Kingdom/Consumer/Office Supplies/Labels",
          "United Kingdom/Corporate/Office Supplies/Labels",
          "United Kingdom/Home Office/Office Supplies/Labels",
          "United Kingdom/Consumer/Technology/Machines",
          "United Kingdom/Corporate/Technology/Machines",
          "United Kingdom/Home Office/Technology/Machines",
          "United Kingdom/Consumer/Office Supplies/Paper",
          "United Kingdom/Corporate/Office Supplies/Paper",
          "United Kingdom/Home Office/Office Supplies/Paper",
          "United Kingdom/Consumer/Technology/Phones",
          "United Kingdom/Corporate/Technology/Phones",
          "United Kingdom/Home Office/Technology/Phones",
          "United Kingdom/Consumer/Office Supplies/Storage",
          "United Kingdom/Corporate/Office Supplies/Storage",
          "United Kingdom/Home Office/Office Supplies/Storage",
          "United Kingdom/Consumer/Office Supplies/Supplies",
          "United Kingdom/Corporate/Office Supplies/Supplies",
          "United Kingdom/Home Office/Office Supplies/Supplies",
          "United Kingdom/Consumer/Furniture/Tables",
          "United Kingdom/Corporate/Furniture/Tables",
          "United Kingdom/Home Office/Furniture/Tables",
          "United Kingdom/Consumer/Furniture",
          "United Kingdom/Corporate/Furniture",
          "United Kingdom/Home Office/Furniture",
          "United Kingdom/Consumer/Office Supplies",
          "United Kingdom/Corporate/Office Supplies",
          "United Kingdom/Home Office/Office Supplies",
          "United Kingdom/Consumer/Technology",
          "United Kingdom/Corporate/Technology",
          "United Kingdom/Home Office/Technology",
          "United Kingdom/Consumer",
          "United Kingdom/Corporate",
          "United Kingdom/Home Office",
          "United Kingdom"
         ],
         "insidetextorientation": "radial",
         "labels": [
          "Accessories",
          "Accessories",
          "Accessories",
          "Appliances",
          "Appliances",
          "Appliances",
          "Art",
          "Art",
          "Art",
          "Binders",
          "Binders",
          "Binders",
          "Bookcases",
          "Bookcases",
          "Bookcases",
          "Chairs",
          "Chairs",
          "Chairs",
          "Copiers",
          "Copiers",
          "Copiers",
          "Envelopes",
          "Envelopes",
          "Envelopes",
          "Fasteners",
          "Fasteners",
          "Fasteners",
          "Furnishings",
          "Furnishings",
          "Furnishings",
          "Labels",
          "Labels",
          "Labels",
          "Machines",
          "Machines",
          "Machines",
          "Paper",
          "Paper",
          "Paper",
          "Phones",
          "Phones",
          "Phones",
          "Storage",
          "Storage",
          "Storage",
          "Supplies",
          "Supplies",
          "Supplies",
          "Tables",
          "Tables",
          "Tables",
          "Furniture",
          "Furniture",
          "Furniture",
          "Office Supplies",
          "Office Supplies",
          "Office Supplies",
          "Technology",
          "Technology",
          "Technology",
          "Consumer",
          "Corporate",
          "Home Office",
          "United Kingdom"
         ],
         "marker": {
          "coloraxis": "coloraxis",
          "colors": [
           454.0008511796226,
           1244.8990804886398,
           958.7943774435332,
           1730.8398471657513,
           2029.7649588751099,
           3764.1991807311742,
           198.2776345581116,
           139.69667973510505,
           187.6829679075974,
           176.29987574164838,
           138.2980381867542,
           153.50333177159828,
           1268.9288414460636,
           1031.3657344310384,
           1484.1255646271163,
           1443.7512126120314,
           411.39847222014436,
           1134.5625733324314,
           1584.9590812411743,
           1115.6769999511225,
           1205.8891793958892,
           156.75721579564816,
           212.38503726163836,
           197.59247135082597,
           64.01048368959037,
           65.66741695357948,
           69.51076879697891,
           195.43912922349665,
           157.47724607200465,
           206.9694236887677,
           53.99756877231666,
           51.98662552391465,
           57.10655850927659,
           971.8253225767473,
           1092.1654971806104,
           690.0018731974333,
           146.04004523938056,
           114.84685331070604,
           115.07666264757401,
           2951.5324997053967,
           1677.4931543912185,
           943.5647457310681,
           455.2782398962606,
           980.8489961188527,
           501.00102365671637,
           275.5669143253484,
           175.209767980854,
           193.8182552067384,
           2960.090630527128,
           3074.644238899431,
           1100.8251637293833,
           1643.6023227689914,
           1395.225956273558,
           1227.2030439414746,
           702.231155410949,
           924.666153764993,
           1242.369222002976,
           1933.6294505059966,
           1312.2447832641549,
           976.620103989682,
           1442.0467496742401,
           1207.1438322590088,
           1130.9785404383667,
           1313.9364420962463
          ]
         },
         "name": "",
         "parents": [
          "United Kingdom/Consumer/Technology",
          "United Kingdom/Corporate/Technology",
          "United Kingdom/Home Office/Technology",
          "United Kingdom/Consumer/Office Supplies",
          "United Kingdom/Corporate/Office Supplies",
          "United Kingdom/Home Office/Office Supplies",
          "United Kingdom/Consumer/Office Supplies",
          "United Kingdom/Corporate/Office Supplies",
          "United Kingdom/Home Office/Office Supplies",
          "United Kingdom/Consumer/Office Supplies",
          "United Kingdom/Corporate/Office Supplies",
          "United Kingdom/Home Office/Office Supplies",
          "United Kingdom/Consumer/Furniture",
          "United Kingdom/Corporate/Furniture",
          "United Kingdom/Home Office/Furniture",
          "United Kingdom/Consumer/Furniture",
          "United Kingdom/Corporate/Furniture",
          "United Kingdom/Home Office/Furniture",
          "United Kingdom/Consumer/Technology",
          "United Kingdom/Corporate/Technology",
          "United Kingdom/Home Office/Technology",
          "United Kingdom/Consumer/Office Supplies",
          "United Kingdom/Corporate/Office Supplies",
          "United Kingdom/Home Office/Office Supplies",
          "United Kingdom/Consumer/Office Supplies",
          "United Kingdom/Corporate/Office Supplies",
          "United Kingdom/Home Office/Office Supplies",
          "United Kingdom/Consumer/Furniture",
          "United Kingdom/Corporate/Furniture",
          "United Kingdom/Home Office/Furniture",
          "United Kingdom/Consumer/Office Supplies",
          "United Kingdom/Corporate/Office Supplies",
          "United Kingdom/Home Office/Office Supplies",
          "United Kingdom/Consumer/Technology",
          "United Kingdom/Corporate/Technology",
          "United Kingdom/Home Office/Technology",
          "United Kingdom/Consumer/Office Supplies",
          "United Kingdom/Corporate/Office Supplies",
          "United Kingdom/Home Office/Office Supplies",
          "United Kingdom/Consumer/Technology",
          "United Kingdom/Corporate/Technology",
          "United Kingdom/Home Office/Technology",
          "United Kingdom/Consumer/Office Supplies",
          "United Kingdom/Corporate/Office Supplies",
          "United Kingdom/Home Office/Office Supplies",
          "United Kingdom/Consumer/Office Supplies",
          "United Kingdom/Corporate/Office Supplies",
          "United Kingdom/Home Office/Office Supplies",
          "United Kingdom/Consumer/Furniture",
          "United Kingdom/Corporate/Furniture",
          "United Kingdom/Home Office/Furniture",
          "United Kingdom/Consumer",
          "United Kingdom/Corporate",
          "United Kingdom/Home Office",
          "United Kingdom/Consumer",
          "United Kingdom/Corporate",
          "United Kingdom/Home Office",
          "United Kingdom/Consumer",
          "United Kingdom/Corporate",
          "United Kingdom/Home Office",
          "United Kingdom",
          "United Kingdom",
          "United Kingdom",
          ""
         ],
         "type": "sunburst",
         "values": [
          8367.846000000001,
          11555.022000000004,
          3694.7010000000005,
          25690.301999999996,
          13388.826,
          8901.84,
          13895.985000000006,
          5688.896999999997,
          5388.939000000003,
          7372.091999999995,
          5435.733,
          2945.441999999999,
          35620.497,
          23674.121999999996,
          10572.234,
          12609.530999999999,
          6898.308,
          7365.2609999999995,
          35009.16900000001,
          19763.706000000006,
          13657.236000000003,
          4357.428,
          3677.1330000000007,
          1061.706,
          1963.4699999999993,
          909.684,
          830.9580000000001,
          3241.6860000000006,
          2209.5239999999994,
          1730.6429999999998,
          1458.552,
          695.7239999999999,
          445.31399999999996,
          22345.287000000004,
          15216.060000000001,
          9490.218,
          3167.55,
          1840.2569999999998,
          1145.781,
          45269.29500000002,
          21935.288999999997,
          10444.649999999998,
          29775.78299999999,
          20570.205,
          9960.723,
          4346.909999999999,
          2286.4320000000007,
          2165.127,
          15617.742,
          10798.769999999999,
          2122.71,
          67089.45600000002,
          43580.72399999999,
          21790.848,
          92028.07199999996,
          54492.89100000002,
          32845.83,
          110991.59699999998,
          68470.07699999998,
          37286.80500000001,
          270109.1250000004,
          166543.69200000027,
          91923.48300000011,
          528576.2999999993
         ]
        }
       ],
       "layout": {
        "coloraxis": {
         "colorbar": {
          "title": {
           "text": "Sales"
          }
         },
         "colorscale": [
          [
           0,
           "rgb(247,251,255)"
          ],
          [
           0.125,
           "rgb(222,235,247)"
          ],
          [
           0.25,
           "rgb(198,219,239)"
          ],
          [
           0.375,
           "rgb(158,202,225)"
          ],
          [
           0.5,
           "rgb(107,174,214)"
          ],
          [
           0.625,
           "rgb(66,146,198)"
          ],
          [
           0.75,
           "rgb(33,113,181)"
          ],
          [
           0.875,
           "rgb(8,81,156)"
          ],
          [
           1,
           "rgb(8,48,107)"
          ]
         ]
        },
        "legend": {
         "tracegroupgap": 0
        },
        "margin": {
         "t": 60
        },
        "template": {
         "data": {
          "bar": [
           {
            "error_x": {
             "color": "#2a3f5f"
            },
            "error_y": {
             "color": "#2a3f5f"
            },
            "marker": {
             "line": {
              "color": "#E5ECF6",
              "width": 0.5
             }
            },
            "type": "bar"
           }
          ],
          "barpolar": [
           {
            "marker": {
             "line": {
              "color": "#E5ECF6",
              "width": 0.5
             }
            },
            "type": "barpolar"
           }
          ],
          "carpet": [
           {
            "aaxis": {
             "endlinecolor": "#2a3f5f",
             "gridcolor": "white",
             "linecolor": "white",
             "minorgridcolor": "white",
             "startlinecolor": "#2a3f5f"
            },
            "baxis": {
             "endlinecolor": "#2a3f5f",
             "gridcolor": "white",
             "linecolor": "white",
             "minorgridcolor": "white",
             "startlinecolor": "#2a3f5f"
            },
            "type": "carpet"
           }
          ],
          "choropleth": [
           {
            "colorbar": {
             "outlinewidth": 0,
             "ticks": ""
            },
            "type": "choropleth"
           }
          ],
          "contour": [
           {
            "colorbar": {
             "outlinewidth": 0,
             "ticks": ""
            },
            "colorscale": [
             [
              0,
              "#0d0887"
             ],
             [
              0.1111111111111111,
              "#46039f"
             ],
             [
              0.2222222222222222,
              "#7201a8"
             ],
             [
              0.3333333333333333,
              "#9c179e"
             ],
             [
              0.4444444444444444,
              "#bd3786"
             ],
             [
              0.5555555555555556,
              "#d8576b"
             ],
             [
              0.6666666666666666,
              "#ed7953"
             ],
             [
              0.7777777777777778,
              "#fb9f3a"
             ],
             [
              0.8888888888888888,
              "#fdca26"
             ],
             [
              1,
              "#f0f921"
             ]
            ],
            "type": "contour"
           }
          ],
          "contourcarpet": [
           {
            "colorbar": {
             "outlinewidth": 0,
             "ticks": ""
            },
            "type": "contourcarpet"
           }
          ],
          "heatmap": [
           {
            "colorbar": {
             "outlinewidth": 0,
             "ticks": ""
            },
            "colorscale": [
             [
              0,
              "#0d0887"
             ],
             [
              0.1111111111111111,
              "#46039f"
             ],
             [
              0.2222222222222222,
              "#7201a8"
             ],
             [
              0.3333333333333333,
              "#9c179e"
             ],
             [
              0.4444444444444444,
              "#bd3786"
             ],
             [
              0.5555555555555556,
              "#d8576b"
             ],
             [
              0.6666666666666666,
              "#ed7953"
             ],
             [
              0.7777777777777778,
              "#fb9f3a"
             ],
             [
              0.8888888888888888,
              "#fdca26"
             ],
             [
              1,
              "#f0f921"
             ]
            ],
            "type": "heatmap"
           }
          ],
          "heatmapgl": [
           {
            "colorbar": {
             "outlinewidth": 0,
             "ticks": ""
            },
            "colorscale": [
             [
              0,
              "#0d0887"
             ],
             [
              0.1111111111111111,
              "#46039f"
             ],
             [
              0.2222222222222222,
              "#7201a8"
             ],
             [
              0.3333333333333333,
              "#9c179e"
             ],
             [
              0.4444444444444444,
              "#bd3786"
             ],
             [
              0.5555555555555556,
              "#d8576b"
             ],
             [
              0.6666666666666666,
              "#ed7953"
             ],
             [
              0.7777777777777778,
              "#fb9f3a"
             ],
             [
              0.8888888888888888,
              "#fdca26"
             ],
             [
              1,
              "#f0f921"
             ]
            ],
            "type": "heatmapgl"
           }
          ],
          "histogram": [
           {
            "marker": {
             "colorbar": {
              "outlinewidth": 0,
              "ticks": ""
             }
            },
            "type": "histogram"
           }
          ],
          "histogram2d": [
           {
            "colorbar": {
             "outlinewidth": 0,
             "ticks": ""
            },
            "colorscale": [
             [
              0,
              "#0d0887"
             ],
             [
              0.1111111111111111,
              "#46039f"
             ],
             [
              0.2222222222222222,
              "#7201a8"
             ],
             [
              0.3333333333333333,
              "#9c179e"
             ],
             [
              0.4444444444444444,
              "#bd3786"
             ],
             [
              0.5555555555555556,
              "#d8576b"
             ],
             [
              0.6666666666666666,
              "#ed7953"
             ],
             [
              0.7777777777777778,
              "#fb9f3a"
             ],
             [
              0.8888888888888888,
              "#fdca26"
             ],
             [
              1,
              "#f0f921"
             ]
            ],
            "type": "histogram2d"
           }
          ],
          "histogram2dcontour": [
           {
            "colorbar": {
             "outlinewidth": 0,
             "ticks": ""
            },
            "colorscale": [
             [
              0,
              "#0d0887"
             ],
             [
              0.1111111111111111,
              "#46039f"
             ],
             [
              0.2222222222222222,
              "#7201a8"
             ],
             [
              0.3333333333333333,
              "#9c179e"
             ],
             [
              0.4444444444444444,
              "#bd3786"
             ],
             [
              0.5555555555555556,
              "#d8576b"
             ],
             [
              0.6666666666666666,
              "#ed7953"
             ],
             [
              0.7777777777777778,
              "#fb9f3a"
             ],
             [
              0.8888888888888888,
              "#fdca26"
             ],
             [
              1,
              "#f0f921"
             ]
            ],
            "type": "histogram2dcontour"
           }
          ],
          "mesh3d": [
           {
            "colorbar": {
             "outlinewidth": 0,
             "ticks": ""
            },
            "type": "mesh3d"
           }
          ],
          "parcoords": [
           {
            "line": {
             "colorbar": {
              "outlinewidth": 0,
              "ticks": ""
             }
            },
            "type": "parcoords"
           }
          ],
          "pie": [
           {
            "automargin": true,
            "type": "pie"
           }
          ],
          "scatter": [
           {
            "marker": {
             "colorbar": {
              "outlinewidth": 0,
              "ticks": ""
             }
            },
            "type": "scatter"
           }
          ],
          "scatter3d": [
           {
            "line": {
             "colorbar": {
              "outlinewidth": 0,
              "ticks": ""
             }
            },
            "marker": {
             "colorbar": {
              "outlinewidth": 0,
              "ticks": ""
             }
            },
            "type": "scatter3d"
           }
          ],
          "scattercarpet": [
           {
            "marker": {
             "colorbar": {
              "outlinewidth": 0,
              "ticks": ""
             }
            },
            "type": "scattercarpet"
           }
          ],
          "scattergeo": [
           {
            "marker": {
             "colorbar": {
              "outlinewidth": 0,
              "ticks": ""
             }
            },
            "type": "scattergeo"
           }
          ],
          "scattergl": [
           {
            "marker": {
             "colorbar": {
              "outlinewidth": 0,
              "ticks": ""
             }
            },
            "type": "scattergl"
           }
          ],
          "scattermapbox": [
           {
            "marker": {
             "colorbar": {
              "outlinewidth": 0,
              "ticks": ""
             }
            },
            "type": "scattermapbox"
           }
          ],
          "scatterpolar": [
           {
            "marker": {
             "colorbar": {
              "outlinewidth": 0,
              "ticks": ""
             }
            },
            "type": "scatterpolar"
           }
          ],
          "scatterpolargl": [
           {
            "marker": {
             "colorbar": {
              "outlinewidth": 0,
              "ticks": ""
             }
            },
            "type": "scatterpolargl"
           }
          ],
          "scatterternary": [
           {
            "marker": {
             "colorbar": {
              "outlinewidth": 0,
              "ticks": ""
             }
            },
            "type": "scatterternary"
           }
          ],
          "surface": [
           {
            "colorbar": {
             "outlinewidth": 0,
             "ticks": ""
            },
            "colorscale": [
             [
              0,
              "#0d0887"
             ],
             [
              0.1111111111111111,
              "#46039f"
             ],
             [
              0.2222222222222222,
              "#7201a8"
             ],
             [
              0.3333333333333333,
              "#9c179e"
             ],
             [
              0.4444444444444444,
              "#bd3786"
             ],
             [
              0.5555555555555556,
              "#d8576b"
             ],
             [
              0.6666666666666666,
              "#ed7953"
             ],
             [
              0.7777777777777778,
              "#fb9f3a"
             ],
             [
              0.8888888888888888,
              "#fdca26"
             ],
             [
              1,
              "#f0f921"
             ]
            ],
            "type": "surface"
           }
          ],
          "table": [
           {
            "cells": {
             "fill": {
              "color": "#EBF0F8"
             },
             "line": {
              "color": "white"
             }
            },
            "header": {
             "fill": {
              "color": "#C8D4E3"
             },
             "line": {
              "color": "white"
             }
            },
            "type": "table"
           }
          ]
         },
         "layout": {
          "annotationdefaults": {
           "arrowcolor": "#2a3f5f",
           "arrowhead": 0,
           "arrowwidth": 1
          },
          "autotypenumbers": "strict",
          "coloraxis": {
           "colorbar": {
            "outlinewidth": 0,
            "ticks": ""
           }
          },
          "colorscale": {
           "diverging": [
            [
             0,
             "#8e0152"
            ],
            [
             0.1,
             "#c51b7d"
            ],
            [
             0.2,
             "#de77ae"
            ],
            [
             0.3,
             "#f1b6da"
            ],
            [
             0.4,
             "#fde0ef"
            ],
            [
             0.5,
             "#f7f7f7"
            ],
            [
             0.6,
             "#e6f5d0"
            ],
            [
             0.7,
             "#b8e186"
            ],
            [
             0.8,
             "#7fbc41"
            ],
            [
             0.9,
             "#4d9221"
            ],
            [
             1,
             "#276419"
            ]
           ],
           "sequential": [
            [
             0,
             "#0d0887"
            ],
            [
             0.1111111111111111,
             "#46039f"
            ],
            [
             0.2222222222222222,
             "#7201a8"
            ],
            [
             0.3333333333333333,
             "#9c179e"
            ],
            [
             0.4444444444444444,
             "#bd3786"
            ],
            [
             0.5555555555555556,
             "#d8576b"
            ],
            [
             0.6666666666666666,
             "#ed7953"
            ],
            [
             0.7777777777777778,
             "#fb9f3a"
            ],
            [
             0.8888888888888888,
             "#fdca26"
            ],
            [
             1,
             "#f0f921"
            ]
           ],
           "sequentialminus": [
            [
             0,
             "#0d0887"
            ],
            [
             0.1111111111111111,
             "#46039f"
            ],
            [
             0.2222222222222222,
             "#7201a8"
            ],
            [
             0.3333333333333333,
             "#9c179e"
            ],
            [
             0.4444444444444444,
             "#bd3786"
            ],
            [
             0.5555555555555556,
             "#d8576b"
            ],
            [
             0.6666666666666666,
             "#ed7953"
            ],
            [
             0.7777777777777778,
             "#fb9f3a"
            ],
            [
             0.8888888888888888,
             "#fdca26"
            ],
            [
             1,
             "#f0f921"
            ]
           ]
          },
          "colorway": [
           "#636efa",
           "#EF553B",
           "#00cc96",
           "#ab63fa",
           "#FFA15A",
           "#19d3f3",
           "#FF6692",
           "#B6E880",
           "#FF97FF",
           "#FECB52"
          ],
          "font": {
           "color": "#2a3f5f"
          },
          "geo": {
           "bgcolor": "white",
           "lakecolor": "white",
           "landcolor": "#E5ECF6",
           "showlakes": true,
           "showland": true,
           "subunitcolor": "white"
          },
          "hoverlabel": {
           "align": "left"
          },
          "hovermode": "closest",
          "mapbox": {
           "style": "light"
          },
          "paper_bgcolor": "white",
          "plot_bgcolor": "#E5ECF6",
          "polar": {
           "angularaxis": {
            "gridcolor": "white",
            "linecolor": "white",
            "ticks": ""
           },
           "bgcolor": "#E5ECF6",
           "radialaxis": {
            "gridcolor": "white",
            "linecolor": "white",
            "ticks": ""
           }
          },
          "scene": {
           "xaxis": {
            "backgroundcolor": "#E5ECF6",
            "gridcolor": "white",
            "gridwidth": 2,
            "linecolor": "white",
            "showbackground": true,
            "ticks": "",
            "zerolinecolor": "white"
           },
           "yaxis": {
            "backgroundcolor": "#E5ECF6",
            "gridcolor": "white",
            "gridwidth": 2,
            "linecolor": "white",
            "showbackground": true,
            "ticks": "",
            "zerolinecolor": "white"
           },
           "zaxis": {
            "backgroundcolor": "#E5ECF6",
            "gridcolor": "white",
            "gridwidth": 2,
            "linecolor": "white",
            "showbackground": true,
            "ticks": "",
            "zerolinecolor": "white"
           }
          },
          "shapedefaults": {
           "line": {
            "color": "#2a3f5f"
           }
          },
          "ternary": {
           "aaxis": {
            "gridcolor": "white",
            "linecolor": "white",
            "ticks": ""
           },
           "baxis": {
            "gridcolor": "white",
            "linecolor": "white",
            "ticks": ""
           },
           "bgcolor": "#E5ECF6",
           "caxis": {
            "gridcolor": "white",
            "linecolor": "white",
            "ticks": ""
           }
          },
          "title": {
           "x": 0.05
          },
          "xaxis": {
           "automargin": true,
           "gridcolor": "white",
           "linecolor": "white",
           "ticks": "",
           "title": {
            "standoff": 15
           },
           "zerolinecolor": "white",
           "zerolinewidth": 2
          },
          "yaxis": {
           "automargin": true,
           "gridcolor": "white",
           "linecolor": "white",
           "ticks": "",
           "title": {
            "standoff": 15
           },
           "zerolinecolor": "white",
           "zerolinewidth": 2
          }
         }
        }
       }
      },
      "text/html": [
       "<div>                            <div id=\"4d4d61eb-6b99-4942-94ea-a38d5ac911f2\" class=\"plotly-graph-div\" style=\"height:525px; width:100%;\"></div>            <script type=\"text/javascript\">                require([\"plotly\"], function(Plotly) {                    window.PLOTLYENV=window.PLOTLYENV || {};                                    if (document.getElementById(\"4d4d61eb-6b99-4942-94ea-a38d5ac911f2\")) {                    Plotly.newPlot(                        \"4d4d61eb-6b99-4942-94ea-a38d5ac911f2\",                        [{\"branchvalues\": \"total\", \"customdata\": [[454.0008511796226], [1244.8990804886398], [958.7943774435332], [1730.8398471657513], [2029.7649588751099], [3764.1991807311742], [198.2776345581116], [139.69667973510505], [187.6829679075974], [176.29987574164838], [138.2980381867542], [153.50333177159828], [1268.9288414460636], [1031.3657344310384], [1484.1255646271163], [1443.7512126120314], [411.39847222014436], [1134.5625733324314], [1584.9590812411743], [1115.6769999511225], [1205.8891793958892], [156.75721579564816], [212.38503726163836], [197.59247135082597], [64.01048368959037], [65.66741695357948], [69.51076879697891], [195.43912922349665], [157.47724607200465], [206.9694236887677], [53.99756877231666], [51.98662552391465], [57.10655850927659], [971.8253225767473], [1092.1654971806104], [690.0018731974333], [146.04004523938056], [114.84685331070604], [115.07666264757401], [2951.5324997053967], [1677.4931543912185], [943.5647457310681], [455.2782398962606], [980.8489961188527], [501.00102365671637], [275.5669143253484], [175.209767980854], [193.8182552067384], [2960.090630527128], [3074.644238899431], [1100.8251637293833], [1643.6023227689914], [1395.225956273558], [1227.2030439414746], [702.231155410949], [924.666153764993], [1242.369222002976], [1933.6294505059966], [1312.2447832641549], [976.620103989682], [1442.0467496742401], [1207.1438322590088], [1130.9785404383667], [1313.9364420962463]], \"domain\": {\"x\": [0.0, 1.0], \"y\": [0.0, 1.0]}, \"hovertemplate\": \"labels=%{label}<br>Sales_sum=%{value}<br>parent=%{parent}<br>id=%{id}<br>Sales=%{color}<extra></extra>\", \"ids\": [\"United Kingdom/Consumer/Technology/Accessories\", \"United Kingdom/Corporate/Technology/Accessories\", \"United Kingdom/Home Office/Technology/Accessories\", \"United Kingdom/Consumer/Office Supplies/Appliances\", \"United Kingdom/Corporate/Office Supplies/Appliances\", \"United Kingdom/Home Office/Office Supplies/Appliances\", \"United Kingdom/Consumer/Office Supplies/Art\", \"United Kingdom/Corporate/Office Supplies/Art\", \"United Kingdom/Home Office/Office Supplies/Art\", \"United Kingdom/Consumer/Office Supplies/Binders\", \"United Kingdom/Corporate/Office Supplies/Binders\", \"United Kingdom/Home Office/Office Supplies/Binders\", \"United Kingdom/Consumer/Furniture/Bookcases\", \"United Kingdom/Corporate/Furniture/Bookcases\", \"United Kingdom/Home Office/Furniture/Bookcases\", \"United Kingdom/Consumer/Furniture/Chairs\", \"United Kingdom/Corporate/Furniture/Chairs\", \"United Kingdom/Home Office/Furniture/Chairs\", \"United Kingdom/Consumer/Technology/Copiers\", \"United Kingdom/Corporate/Technology/Copiers\", \"United Kingdom/Home Office/Technology/Copiers\", \"United Kingdom/Consumer/Office Supplies/Envelopes\", \"United Kingdom/Corporate/Office Supplies/Envelopes\", \"United Kingdom/Home Office/Office Supplies/Envelopes\", \"United Kingdom/Consumer/Office Supplies/Fasteners\", \"United Kingdom/Corporate/Office Supplies/Fasteners\", \"United Kingdom/Home Office/Office Supplies/Fasteners\", \"United Kingdom/Consumer/Furniture/Furnishings\", \"United Kingdom/Corporate/Furniture/Furnishings\", \"United Kingdom/Home Office/Furniture/Furnishings\", \"United Kingdom/Consumer/Office Supplies/Labels\", \"United Kingdom/Corporate/Office Supplies/Labels\", \"United Kingdom/Home Office/Office Supplies/Labels\", \"United Kingdom/Consumer/Technology/Machines\", \"United Kingdom/Corporate/Technology/Machines\", \"United Kingdom/Home Office/Technology/Machines\", \"United Kingdom/Consumer/Office Supplies/Paper\", \"United Kingdom/Corporate/Office Supplies/Paper\", \"United Kingdom/Home Office/Office Supplies/Paper\", \"United Kingdom/Consumer/Technology/Phones\", \"United Kingdom/Corporate/Technology/Phones\", \"United Kingdom/Home Office/Technology/Phones\", \"United Kingdom/Consumer/Office Supplies/Storage\", \"United Kingdom/Corporate/Office Supplies/Storage\", \"United Kingdom/Home Office/Office Supplies/Storage\", \"United Kingdom/Consumer/Office Supplies/Supplies\", \"United Kingdom/Corporate/Office Supplies/Supplies\", \"United Kingdom/Home Office/Office Supplies/Supplies\", \"United Kingdom/Consumer/Furniture/Tables\", \"United Kingdom/Corporate/Furniture/Tables\", \"United Kingdom/Home Office/Furniture/Tables\", \"United Kingdom/Consumer/Furniture\", \"United Kingdom/Corporate/Furniture\", \"United Kingdom/Home Office/Furniture\", \"United Kingdom/Consumer/Office Supplies\", \"United Kingdom/Corporate/Office Supplies\", \"United Kingdom/Home Office/Office Supplies\", \"United Kingdom/Consumer/Technology\", \"United Kingdom/Corporate/Technology\", \"United Kingdom/Home Office/Technology\", \"United Kingdom/Consumer\", \"United Kingdom/Corporate\", \"United Kingdom/Home Office\", \"United Kingdom\"], \"insidetextorientation\": \"radial\", \"labels\": [\"Accessories\", \"Accessories\", \"Accessories\", \"Appliances\", \"Appliances\", \"Appliances\", \"Art\", \"Art\", \"Art\", \"Binders\", \"Binders\", \"Binders\", \"Bookcases\", \"Bookcases\", \"Bookcases\", \"Chairs\", \"Chairs\", \"Chairs\", \"Copiers\", \"Copiers\", \"Copiers\", \"Envelopes\", \"Envelopes\", \"Envelopes\", \"Fasteners\", \"Fasteners\", \"Fasteners\", \"Furnishings\", \"Furnishings\", \"Furnishings\", \"Labels\", \"Labels\", \"Labels\", \"Machines\", \"Machines\", \"Machines\", \"Paper\", \"Paper\", \"Paper\", \"Phones\", \"Phones\", \"Phones\", \"Storage\", \"Storage\", \"Storage\", \"Supplies\", \"Supplies\", \"Supplies\", \"Tables\", \"Tables\", \"Tables\", \"Furniture\", \"Furniture\", \"Furniture\", \"Office Supplies\", \"Office Supplies\", \"Office Supplies\", \"Technology\", \"Technology\", \"Technology\", \"Consumer\", \"Corporate\", \"Home Office\", \"United Kingdom\"], \"marker\": {\"coloraxis\": \"coloraxis\", \"colors\": [454.0008511796226, 1244.8990804886398, 958.7943774435332, 1730.8398471657513, 2029.7649588751099, 3764.1991807311742, 198.2776345581116, 139.69667973510505, 187.6829679075974, 176.29987574164838, 138.2980381867542, 153.50333177159828, 1268.9288414460636, 1031.3657344310384, 1484.1255646271163, 1443.7512126120314, 411.39847222014436, 1134.5625733324314, 1584.9590812411743, 1115.6769999511225, 1205.8891793958892, 156.75721579564816, 212.38503726163836, 197.59247135082597, 64.01048368959037, 65.66741695357948, 69.51076879697891, 195.43912922349665, 157.47724607200465, 206.9694236887677, 53.99756877231666, 51.98662552391465, 57.10655850927659, 971.8253225767473, 1092.1654971806104, 690.0018731974333, 146.04004523938056, 114.84685331070604, 115.07666264757401, 2951.5324997053967, 1677.4931543912185, 943.5647457310681, 455.2782398962606, 980.8489961188527, 501.00102365671637, 275.5669143253484, 175.209767980854, 193.8182552067384, 2960.090630527128, 3074.644238899431, 1100.8251637293833, 1643.6023227689914, 1395.225956273558, 1227.2030439414746, 702.231155410949, 924.666153764993, 1242.369222002976, 1933.6294505059966, 1312.2447832641549, 976.620103989682, 1442.0467496742401, 1207.1438322590088, 1130.9785404383667, 1313.9364420962463]}, \"name\": \"\", \"parents\": [\"United Kingdom/Consumer/Technology\", \"United Kingdom/Corporate/Technology\", \"United Kingdom/Home Office/Technology\", \"United Kingdom/Consumer/Office Supplies\", \"United Kingdom/Corporate/Office Supplies\", \"United Kingdom/Home Office/Office Supplies\", \"United Kingdom/Consumer/Office Supplies\", \"United Kingdom/Corporate/Office Supplies\", \"United Kingdom/Home Office/Office Supplies\", \"United Kingdom/Consumer/Office Supplies\", \"United Kingdom/Corporate/Office Supplies\", \"United Kingdom/Home Office/Office Supplies\", \"United Kingdom/Consumer/Furniture\", \"United Kingdom/Corporate/Furniture\", \"United Kingdom/Home Office/Furniture\", \"United Kingdom/Consumer/Furniture\", \"United Kingdom/Corporate/Furniture\", \"United Kingdom/Home Office/Furniture\", \"United Kingdom/Consumer/Technology\", \"United Kingdom/Corporate/Technology\", \"United Kingdom/Home Office/Technology\", \"United Kingdom/Consumer/Office Supplies\", \"United Kingdom/Corporate/Office Supplies\", \"United Kingdom/Home Office/Office Supplies\", \"United Kingdom/Consumer/Office Supplies\", \"United Kingdom/Corporate/Office Supplies\", \"United Kingdom/Home Office/Office Supplies\", \"United Kingdom/Consumer/Furniture\", \"United Kingdom/Corporate/Furniture\", \"United Kingdom/Home Office/Furniture\", \"United Kingdom/Consumer/Office Supplies\", \"United Kingdom/Corporate/Office Supplies\", \"United Kingdom/Home Office/Office Supplies\", \"United Kingdom/Consumer/Technology\", \"United Kingdom/Corporate/Technology\", \"United Kingdom/Home Office/Technology\", \"United Kingdom/Consumer/Office Supplies\", \"United Kingdom/Corporate/Office Supplies\", \"United Kingdom/Home Office/Office Supplies\", \"United Kingdom/Consumer/Technology\", \"United Kingdom/Corporate/Technology\", \"United Kingdom/Home Office/Technology\", \"United Kingdom/Consumer/Office Supplies\", \"United Kingdom/Corporate/Office Supplies\", \"United Kingdom/Home Office/Office Supplies\", \"United Kingdom/Consumer/Office Supplies\", \"United Kingdom/Corporate/Office Supplies\", \"United Kingdom/Home Office/Office Supplies\", \"United Kingdom/Consumer/Furniture\", \"United Kingdom/Corporate/Furniture\", \"United Kingdom/Home Office/Furniture\", \"United Kingdom/Consumer\", \"United Kingdom/Corporate\", \"United Kingdom/Home Office\", \"United Kingdom/Consumer\", \"United Kingdom/Corporate\", \"United Kingdom/Home Office\", \"United Kingdom/Consumer\", \"United Kingdom/Corporate\", \"United Kingdom/Home Office\", \"United Kingdom\", \"United Kingdom\", \"United Kingdom\", \"\"], \"type\": \"sunburst\", \"values\": [8367.846000000001, 11555.022000000004, 3694.7010000000005, 25690.301999999996, 13388.826, 8901.84, 13895.985000000006, 5688.896999999997, 5388.939000000003, 7372.091999999995, 5435.733, 2945.441999999999, 35620.497, 23674.121999999996, 10572.234, 12609.530999999999, 6898.308, 7365.2609999999995, 35009.16900000001, 19763.706000000006, 13657.236000000003, 4357.428, 3677.1330000000007, 1061.706, 1963.4699999999993, 909.684, 830.9580000000001, 3241.6860000000006, 2209.5239999999994, 1730.6429999999998, 1458.552, 695.7239999999999, 445.31399999999996, 22345.287000000004, 15216.060000000001, 9490.218, 3167.55, 1840.2569999999998, 1145.781, 45269.29500000002, 21935.288999999997, 10444.649999999998, 29775.78299999999, 20570.205, 9960.723, 4346.909999999999, 2286.4320000000007, 2165.127, 15617.742, 10798.769999999999, 2122.71, 67089.45600000002, 43580.72399999999, 21790.848, 92028.07199999996, 54492.89100000002, 32845.83, 110991.59699999998, 68470.07699999998, 37286.80500000001, 270109.1250000004, 166543.69200000027, 91923.48300000011, 528576.2999999993]}],                        {\"coloraxis\": {\"colorbar\": {\"title\": {\"text\": \"Sales\"}}, \"colorscale\": [[0.0, \"rgb(247,251,255)\"], [0.125, \"rgb(222,235,247)\"], [0.25, \"rgb(198,219,239)\"], [0.375, \"rgb(158,202,225)\"], [0.5, \"rgb(107,174,214)\"], [0.625, \"rgb(66,146,198)\"], [0.75, \"rgb(33,113,181)\"], [0.875, \"rgb(8,81,156)\"], [1.0, \"rgb(8,48,107)\"]]}, \"legend\": {\"tracegroupgap\": 0}, \"margin\": {\"t\": 60}, \"template\": {\"data\": {\"bar\": [{\"error_x\": {\"color\": \"#2a3f5f\"}, \"error_y\": {\"color\": \"#2a3f5f\"}, \"marker\": {\"line\": {\"color\": \"#E5ECF6\", \"width\": 0.5}}, \"type\": \"bar\"}], \"barpolar\": [{\"marker\": {\"line\": {\"color\": \"#E5ECF6\", \"width\": 0.5}}, \"type\": \"barpolar\"}], \"carpet\": [{\"aaxis\": {\"endlinecolor\": \"#2a3f5f\", \"gridcolor\": \"white\", \"linecolor\": \"white\", \"minorgridcolor\": \"white\", \"startlinecolor\": \"#2a3f5f\"}, \"baxis\": {\"endlinecolor\": \"#2a3f5f\", \"gridcolor\": \"white\", \"linecolor\": \"white\", \"minorgridcolor\": \"white\", \"startlinecolor\": \"#2a3f5f\"}, \"type\": \"carpet\"}], \"choropleth\": [{\"colorbar\": {\"outlinewidth\": 0, \"ticks\": \"\"}, \"type\": \"choropleth\"}], \"contour\": [{\"colorbar\": {\"outlinewidth\": 0, \"ticks\": \"\"}, \"colorscale\": [[0.0, \"#0d0887\"], [0.1111111111111111, \"#46039f\"], [0.2222222222222222, \"#7201a8\"], [0.3333333333333333, \"#9c179e\"], [0.4444444444444444, \"#bd3786\"], [0.5555555555555556, \"#d8576b\"], [0.6666666666666666, \"#ed7953\"], [0.7777777777777778, \"#fb9f3a\"], [0.8888888888888888, \"#fdca26\"], [1.0, \"#f0f921\"]], \"type\": \"contour\"}], \"contourcarpet\": [{\"colorbar\": {\"outlinewidth\": 0, \"ticks\": \"\"}, \"type\": \"contourcarpet\"}], \"heatmap\": [{\"colorbar\": {\"outlinewidth\": 0, \"ticks\": \"\"}, \"colorscale\": [[0.0, \"#0d0887\"], [0.1111111111111111, \"#46039f\"], [0.2222222222222222, \"#7201a8\"], [0.3333333333333333, \"#9c179e\"], [0.4444444444444444, \"#bd3786\"], [0.5555555555555556, \"#d8576b\"], [0.6666666666666666, \"#ed7953\"], [0.7777777777777778, \"#fb9f3a\"], [0.8888888888888888, \"#fdca26\"], [1.0, \"#f0f921\"]], \"type\": \"heatmap\"}], \"heatmapgl\": [{\"colorbar\": {\"outlinewidth\": 0, \"ticks\": \"\"}, \"colorscale\": [[0.0, \"#0d0887\"], [0.1111111111111111, \"#46039f\"], [0.2222222222222222, \"#7201a8\"], [0.3333333333333333, \"#9c179e\"], [0.4444444444444444, \"#bd3786\"], [0.5555555555555556, \"#d8576b\"], [0.6666666666666666, \"#ed7953\"], [0.7777777777777778, \"#fb9f3a\"], [0.8888888888888888, \"#fdca26\"], [1.0, \"#f0f921\"]], \"type\": \"heatmapgl\"}], \"histogram\": [{\"marker\": {\"colorbar\": {\"outlinewidth\": 0, \"ticks\": \"\"}}, \"type\": \"histogram\"}], \"histogram2d\": [{\"colorbar\": {\"outlinewidth\": 0, \"ticks\": \"\"}, \"colorscale\": [[0.0, \"#0d0887\"], [0.1111111111111111, \"#46039f\"], [0.2222222222222222, \"#7201a8\"], [0.3333333333333333, \"#9c179e\"], [0.4444444444444444, \"#bd3786\"], [0.5555555555555556, \"#d8576b\"], [0.6666666666666666, \"#ed7953\"], [0.7777777777777778, \"#fb9f3a\"], [0.8888888888888888, \"#fdca26\"], [1.0, \"#f0f921\"]], \"type\": \"histogram2d\"}], \"histogram2dcontour\": [{\"colorbar\": {\"outlinewidth\": 0, \"ticks\": \"\"}, \"colorscale\": [[0.0, \"#0d0887\"], [0.1111111111111111, \"#46039f\"], [0.2222222222222222, \"#7201a8\"], [0.3333333333333333, \"#9c179e\"], [0.4444444444444444, \"#bd3786\"], [0.5555555555555556, \"#d8576b\"], [0.6666666666666666, \"#ed7953\"], [0.7777777777777778, \"#fb9f3a\"], [0.8888888888888888, \"#fdca26\"], [1.0, \"#f0f921\"]], \"type\": \"histogram2dcontour\"}], \"mesh3d\": [{\"colorbar\": {\"outlinewidth\": 0, \"ticks\": \"\"}, \"type\": \"mesh3d\"}], \"parcoords\": [{\"line\": {\"colorbar\": {\"outlinewidth\": 0, \"ticks\": \"\"}}, \"type\": \"parcoords\"}], \"pie\": [{\"automargin\": true, \"type\": \"pie\"}], \"scatter\": [{\"marker\": {\"colorbar\": {\"outlinewidth\": 0, \"ticks\": \"\"}}, \"type\": \"scatter\"}], \"scatter3d\": [{\"line\": {\"colorbar\": {\"outlinewidth\": 0, \"ticks\": \"\"}}, \"marker\": {\"colorbar\": {\"outlinewidth\": 0, \"ticks\": \"\"}}, \"type\": \"scatter3d\"}], \"scattercarpet\": [{\"marker\": {\"colorbar\": {\"outlinewidth\": 0, \"ticks\": \"\"}}, \"type\": \"scattercarpet\"}], \"scattergeo\": [{\"marker\": {\"colorbar\": {\"outlinewidth\": 0, \"ticks\": \"\"}}, \"type\": \"scattergeo\"}], \"scattergl\": [{\"marker\": {\"colorbar\": {\"outlinewidth\": 0, \"ticks\": \"\"}}, \"type\": \"scattergl\"}], \"scattermapbox\": [{\"marker\": {\"colorbar\": {\"outlinewidth\": 0, \"ticks\": \"\"}}, \"type\": \"scattermapbox\"}], \"scatterpolar\": [{\"marker\": {\"colorbar\": {\"outlinewidth\": 0, \"ticks\": \"\"}}, \"type\": \"scatterpolar\"}], \"scatterpolargl\": [{\"marker\": {\"colorbar\": {\"outlinewidth\": 0, \"ticks\": \"\"}}, \"type\": \"scatterpolargl\"}], \"scatterternary\": [{\"marker\": {\"colorbar\": {\"outlinewidth\": 0, \"ticks\": \"\"}}, \"type\": \"scatterternary\"}], \"surface\": [{\"colorbar\": {\"outlinewidth\": 0, \"ticks\": \"\"}, \"colorscale\": [[0.0, \"#0d0887\"], [0.1111111111111111, \"#46039f\"], [0.2222222222222222, \"#7201a8\"], [0.3333333333333333, \"#9c179e\"], [0.4444444444444444, \"#bd3786\"], [0.5555555555555556, \"#d8576b\"], [0.6666666666666666, \"#ed7953\"], [0.7777777777777778, \"#fb9f3a\"], [0.8888888888888888, \"#fdca26\"], [1.0, \"#f0f921\"]], \"type\": \"surface\"}], \"table\": [{\"cells\": {\"fill\": {\"color\": \"#EBF0F8\"}, \"line\": {\"color\": \"white\"}}, \"header\": {\"fill\": {\"color\": \"#C8D4E3\"}, \"line\": {\"color\": \"white\"}}, \"type\": \"table\"}]}, \"layout\": {\"annotationdefaults\": {\"arrowcolor\": \"#2a3f5f\", \"arrowhead\": 0, \"arrowwidth\": 1}, \"autotypenumbers\": \"strict\", \"coloraxis\": {\"colorbar\": {\"outlinewidth\": 0, \"ticks\": \"\"}}, \"colorscale\": {\"diverging\": [[0, \"#8e0152\"], [0.1, \"#c51b7d\"], [0.2, \"#de77ae\"], [0.3, \"#f1b6da\"], [0.4, \"#fde0ef\"], [0.5, \"#f7f7f7\"], [0.6, \"#e6f5d0\"], [0.7, \"#b8e186\"], [0.8, \"#7fbc41\"], [0.9, \"#4d9221\"], [1, \"#276419\"]], \"sequential\": [[0.0, \"#0d0887\"], [0.1111111111111111, \"#46039f\"], [0.2222222222222222, \"#7201a8\"], [0.3333333333333333, \"#9c179e\"], [0.4444444444444444, \"#bd3786\"], [0.5555555555555556, \"#d8576b\"], [0.6666666666666666, \"#ed7953\"], [0.7777777777777778, \"#fb9f3a\"], [0.8888888888888888, \"#fdca26\"], [1.0, \"#f0f921\"]], \"sequentialminus\": [[0.0, \"#0d0887\"], [0.1111111111111111, \"#46039f\"], [0.2222222222222222, \"#7201a8\"], [0.3333333333333333, \"#9c179e\"], [0.4444444444444444, \"#bd3786\"], [0.5555555555555556, \"#d8576b\"], [0.6666666666666666, \"#ed7953\"], [0.7777777777777778, \"#fb9f3a\"], [0.8888888888888888, \"#fdca26\"], [1.0, \"#f0f921\"]]}, \"colorway\": [\"#636efa\", \"#EF553B\", \"#00cc96\", \"#ab63fa\", \"#FFA15A\", \"#19d3f3\", \"#FF6692\", \"#B6E880\", \"#FF97FF\", \"#FECB52\"], \"font\": {\"color\": \"#2a3f5f\"}, \"geo\": {\"bgcolor\": \"white\", \"lakecolor\": \"white\", \"landcolor\": \"#E5ECF6\", \"showlakes\": true, \"showland\": true, \"subunitcolor\": \"white\"}, \"hoverlabel\": {\"align\": \"left\"}, \"hovermode\": \"closest\", \"mapbox\": {\"style\": \"light\"}, \"paper_bgcolor\": \"white\", \"plot_bgcolor\": \"#E5ECF6\", \"polar\": {\"angularaxis\": {\"gridcolor\": \"white\", \"linecolor\": \"white\", \"ticks\": \"\"}, \"bgcolor\": \"#E5ECF6\", \"radialaxis\": {\"gridcolor\": \"white\", \"linecolor\": \"white\", \"ticks\": \"\"}}, \"scene\": {\"xaxis\": {\"backgroundcolor\": \"#E5ECF6\", \"gridcolor\": \"white\", \"gridwidth\": 2, \"linecolor\": \"white\", \"showbackground\": true, \"ticks\": \"\", \"zerolinecolor\": \"white\"}, \"yaxis\": {\"backgroundcolor\": \"#E5ECF6\", \"gridcolor\": \"white\", \"gridwidth\": 2, \"linecolor\": \"white\", \"showbackground\": true, \"ticks\": \"\", \"zerolinecolor\": \"white\"}, \"zaxis\": {\"backgroundcolor\": \"#E5ECF6\", \"gridcolor\": \"white\", \"gridwidth\": 2, \"linecolor\": \"white\", \"showbackground\": true, \"ticks\": \"\", \"zerolinecolor\": \"white\"}}, \"shapedefaults\": {\"line\": {\"color\": \"#2a3f5f\"}}, \"ternary\": {\"aaxis\": {\"gridcolor\": \"white\", \"linecolor\": \"white\", \"ticks\": \"\"}, \"baxis\": {\"gridcolor\": \"white\", \"linecolor\": \"white\", \"ticks\": \"\"}, \"bgcolor\": \"#E5ECF6\", \"caxis\": {\"gridcolor\": \"white\", \"linecolor\": \"white\", \"ticks\": \"\"}}, \"title\": {\"x\": 0.05}, \"xaxis\": {\"automargin\": true, \"gridcolor\": \"white\", \"linecolor\": \"white\", \"ticks\": \"\", \"title\": {\"standoff\": 15}, \"zerolinecolor\": \"white\", \"zerolinewidth\": 2}, \"yaxis\": {\"automargin\": true, \"gridcolor\": \"white\", \"linecolor\": \"white\", \"ticks\": \"\", \"title\": {\"standoff\": 15}, \"zerolinecolor\": \"white\", \"zerolinewidth\": 2}}}},                        {\"responsive\": true}                    ).then(function(){\n",
       "                            \n",
       "var gd = document.getElementById('4d4d61eb-6b99-4942-94ea-a38d5ac911f2');\n",
       "var x = new MutationObserver(function (mutations, observer) {{\n",
       "        var display = window.getComputedStyle(gd).display;\n",
       "        if (!display || display === 'none') {{\n",
       "            console.log([gd, 'removed!']);\n",
       "            Plotly.purge(gd);\n",
       "            observer.disconnect();\n",
       "        }}\n",
       "}});\n",
       "\n",
       "// Listen for the removal of the full notebook cells\n",
       "var notebookContainer = gd.closest('#notebook-container');\n",
       "if (notebookContainer) {{\n",
       "    x.observe(notebookContainer, {childList: true});\n",
       "}}\n",
       "\n",
       "// Listen for the clearing of the current output cell\n",
       "var outputEl = gd.closest('.output');\n",
       "if (outputEl) {{\n",
       "    x.observe(outputEl, {childList: true});\n",
       "}}\n",
       "\n",
       "                        })                };                });            </script>        </div>"
      ]
     },
     "metadata": {},
     "output_type": "display_data"
    }
   ],
   "source": [
    "# Multilevel hierarchical Sales Composition\n",
    "\n",
    "fig = px.sunburst(SuperstoreSales,path=['Country','Segment','Category', 'Sub-Category'], values='Sales', color='Sales', color_continuous_scale='blues')\n",
    "fig.update_traces(insidetextorientation='radial')\n",
    "fig.show()"
   ]
  },
  {
   "cell_type": "code",
   "execution_count": 102,
   "metadata": {},
   "outputs": [
    {
     "data": {
      "image/png": "[encoded data removed]",
      "text/plain": [
       "<Figure size 720x720 with 6 Axes>"
      ]
     },
     "metadata": {
      "needs_background": "light"
     },
     "output_type": "display_data"
    }
   ],
   "source": [
    "#Analysing the numerical distribution\n",
    "\n",
    "numeric_fields = ['Sales', 'Profit', 'Quantity', 'Shipping Cost', 'Discount']\n",
    "ax_list= SuperstoreSales[numeric_fields].hist(bins=15,figsize=(10, 10), layout=(3, 2), grid=False, color=\"navy\")\n"
   ]
  },
  {
   "cell_type": "code",
   "execution_count": 18,
   "metadata": {},
   "outputs": [
    {
     "data": {
      "image/png": "[encoded data removed]",
      "text/plain": [
       "<Figure size 720x504 with 1 Axes>"
      ]
     },
     "metadata": {
      "needs_background": "light"
     },
     "output_type": "display_data"
    }
   ],
   "source": [
    "# Segment wise Sales - Profit mix.\n",
    "\n",
    "plt.rcParams[\"figure.figsize\"] = (10,7)\n",
    "sns.scatterplot(x='Sales', y='Profit', data = SuperstoreSales, hue='Segment', style='Segment', palette='ocean')\n",
    "plt.title('Sales and Profit', fontsize = 15)\n",
    "ax.set_xlabel('Sales')\n",
    "ax.set_ylabel('Profit');"
   ]
  },
  {
   "cell_type": "code",
   "execution_count": 57,
   "metadata": {},
   "outputs": [
    {
     "data": {
      "image/png": "[encoded data removed]",
      "text/plain": [
       "<Figure size 720x288 with 1 Axes>"
      ]
     },
     "metadata": {
      "needs_background": "light"
     },
     "output_type": "display_data"
    }
   ],
   "source": [
    "# Analysing ship modes with Order Priority  \n",
    "\n",
    "plt.figure(figsize=(10, 4))\n",
    "sns.countplot(x=SuperstoreSales['Ship Mode'], hue='Order Priority', data=SuperstoreSales, palette=\"ocean\")\n",
    "plt.title(\"Ship Mode Analysis\")\n",
    "plt.xticks(size=10)\n",
    "plt.legend(loc=1)\n",
    "sns.color_palette(\"flare\", as_cmap=True);"
   ]
  },
  {
   "cell_type": "code",
   "execution_count": 91,
   "metadata": {},
   "outputs": [
    {
     "data": {
      "image/png": "[encoded data removed]",
      "text/plain": [
       "<Figure size 792x360 with 1 Axes>"
      ]
     },
     "metadata": {
      "needs_background": "light"
     },
     "output_type": "display_data"
    }
   ],
   "source": [
    "#Purchase patterns\n",
    "\n",
    "plt.figure(figsize=(11, 5))\n",
    "sns.countplot(x=SuperstoreSales['Segment'], hue='Sub-Category', data=SuperstoreSales, palette =\"rocket_r\")\n",
    "plt.title(\"Purchase patterns\")\n",
    "plt.xticks(size=10)\n",
    "plt.legend(bbox_to_anchor=(1, 1),borderaxespad=1);"
   ]
  },
  {
   "cell_type": "code",
   "execution_count": 166,
   "metadata": {},
   "outputs": [
    {
     "data": {
      "text/html": [
       "<div>\n",
       "<style scoped>\n",
       "    .dataframe tbody tr th:only-of-type {\n",
       "        vertical-align: middle;\n",
       "    }\n",
       "\n",
       "    .dataframe tbody tr th {\n",
       "        vertical-align: top;\n",
       "    }\n",
       "\n",
       "    .dataframe thead th {\n",
       "        text-align: right;\n",
       "    }\n",
       "</style>\n",
       "<table border=\"1\" class=\"dataframe\">\n",
       "  <thead>\n",
       "    <tr style=\"text-align: right;\">\n",
       "      <th></th>\n",
       "      <th>Product Name</th>\n",
       "      <th>Sales</th>\n",
       "    </tr>\n",
       "  </thead>\n",
       "  <tbody>\n",
       "    <tr>\n",
       "      <th>0</th>\n",
       "      <td>Nokia Smart Phone, Full Size</td>\n",
       "      <td>16806.690</td>\n",
       "    </tr>\n",
       "    <tr>\n",
       "      <th>1</th>\n",
       "      <td>Cisco Smart Phone, Cordless</td>\n",
       "      <td>7231.428</td>\n",
       "    </tr>\n",
       "    <tr>\n",
       "      <th>2</th>\n",
       "      <td>Chromcraft Conference Table, with Bottom Storage</td>\n",
       "      <td>6981.360</td>\n",
       "    </tr>\n",
       "    <tr>\n",
       "      <th>3</th>\n",
       "      <td>Nokia Smart Phone, Cordless</td>\n",
       "      <td>6743.190</td>\n",
       "    </tr>\n",
       "    <tr>\n",
       "      <th>4</th>\n",
       "      <td>Motorola Smart Phone, Cordless</td>\n",
       "      <td>5785.020</td>\n",
       "    </tr>\n",
       "  </tbody>\n",
       "</table>\n",
       "</div>"
      ],
      "text/plain": [
       "                                       Product Name      Sales\n",
       "0                      Nokia Smart Phone, Full Size  16806.690\n",
       "1                       Cisco Smart Phone, Cordless   7231.428\n",
       "2  Chromcraft Conference Table, with Bottom Storage   6981.360\n",
       "3                       Nokia Smart Phone, Cordless   6743.190\n",
       "4                    Motorola Smart Phone, Cordless   5785.020"
      ]
     },
     "execution_count": 166,
     "metadata": {},
     "output_type": "execute_result"
    }
   ],
   "source": [
    "#Pareto analysis\n",
    "#Calculate TotalPrice Per Product and sort them by the products with the highest Sales.\n",
    "SuperstoreSalesProduct = SuperstoreSales.groupby('Product Name').agg({'Sales': 'sum'}).sort_values('Sales', ascending=False)\n",
    "SuperstoreSalesProduct.reset_index(inplace=True)\n",
    "SuperstoreSalesProduct.head()"
   ]
  },
  {
   "cell_type": "code",
   "execution_count": 167,
   "metadata": {},
   "outputs": [
    {
     "data": {
      "text/plain": [
       "528576.3"
      ]
     },
     "execution_count": 167,
     "metadata": {},
     "output_type": "execute_result"
    }
   ],
   "source": [
    "# #Finding the Total Sales \n",
    "SuperstoreSalesProduct[\"Sales\"].sum()"
   ]
  },
  {
   "cell_type": "code",
   "execution_count": 168,
   "metadata": {},
   "outputs": [
    {
     "data": {
      "text/html": [
       "<div>\n",
       "<style scoped>\n",
       "    .dataframe tbody tr th:only-of-type {\n",
       "        vertical-align: middle;\n",
       "    }\n",
       "\n",
       "    .dataframe tbody tr th {\n",
       "        vertical-align: top;\n",
       "    }\n",
       "\n",
       "    .dataframe thead th {\n",
       "        text-align: right;\n",
       "    }\n",
       "</style>\n",
       "<table border=\"1\" class=\"dataframe\">\n",
       "  <thead>\n",
       "    <tr style=\"text-align: right;\">\n",
       "      <th></th>\n",
       "      <th>Product Name</th>\n",
       "      <th>Sales</th>\n",
       "      <th>SumTotalPrice</th>\n",
       "    </tr>\n",
       "  </thead>\n",
       "  <tbody>\n",
       "    <tr>\n",
       "      <th>0</th>\n",
       "      <td>Nokia Smart Phone, Full Size</td>\n",
       "      <td>16806.690</td>\n",
       "      <td>16806.690</td>\n",
       "    </tr>\n",
       "    <tr>\n",
       "      <th>1</th>\n",
       "      <td>Cisco Smart Phone, Cordless</td>\n",
       "      <td>7231.428</td>\n",
       "      <td>24038.118</td>\n",
       "    </tr>\n",
       "    <tr>\n",
       "      <th>2</th>\n",
       "      <td>Chromcraft Conference Table, with Bottom Storage</td>\n",
       "      <td>6981.360</td>\n",
       "      <td>31019.478</td>\n",
       "    </tr>\n",
       "    <tr>\n",
       "      <th>3</th>\n",
       "      <td>Nokia Smart Phone, Cordless</td>\n",
       "      <td>6743.190</td>\n",
       "      <td>37762.668</td>\n",
       "    </tr>\n",
       "    <tr>\n",
       "      <th>4</th>\n",
       "      <td>Motorola Smart Phone, Cordless</td>\n",
       "      <td>5785.020</td>\n",
       "      <td>43547.688</td>\n",
       "    </tr>\n",
       "  </tbody>\n",
       "</table>\n",
       "</div>"
      ],
      "text/plain": [
       "                                       Product Name      Sales  SumTotalPrice\n",
       "0                      Nokia Smart Phone, Full Size  16806.690      16806.690\n",
       "1                       Cisco Smart Phone, Cordless   7231.428      24038.118\n",
       "2  Chromcraft Conference Table, with Bottom Storage   6981.360      31019.478\n",
       "3                       Nokia Smart Phone, Cordless   6743.190      37762.668\n",
       "4                    Motorola Smart Phone, Cordless   5785.020      43547.688"
      ]
     },
     "execution_count": 168,
     "metadata": {},
     "output_type": "execute_result"
    }
   ],
   "source": [
    "#Finding the cumulative total of the sorted products \n",
    "SuperstoreSalesProduct['SumTotalPrice'] = SuperstoreSalesProduct.Sales.cumsum()\n",
    "SuperstoreSalesProduct.head()"
   ]
  },
  {
   "cell_type": "code",
   "execution_count": 169,
   "metadata": {},
   "outputs": [
    {
     "data": {
      "text/html": [
       "<div>\n",
       "<style scoped>\n",
       "    .dataframe tbody tr th:only-of-type {\n",
       "        vertical-align: middle;\n",
       "    }\n",
       "\n",
       "    .dataframe tbody tr th {\n",
       "        vertical-align: top;\n",
       "    }\n",
       "\n",
       "    .dataframe thead th {\n",
       "        text-align: right;\n",
       "    }\n",
       "</style>\n",
       "<table border=\"1\" class=\"dataframe\">\n",
       "  <thead>\n",
       "    <tr style=\"text-align: right;\">\n",
       "      <th></th>\n",
       "      <th>Product Name</th>\n",
       "      <th>Sales</th>\n",
       "      <th>SumTotalPrice</th>\n",
       "    </tr>\n",
       "  </thead>\n",
       "  <tbody>\n",
       "    <tr>\n",
       "      <th>0</th>\n",
       "      <td>Nokia Smart Phone, Full Size</td>\n",
       "      <td>16806.690</td>\n",
       "      <td>16806.690</td>\n",
       "    </tr>\n",
       "    <tr>\n",
       "      <th>1</th>\n",
       "      <td>Cisco Smart Phone, Cordless</td>\n",
       "      <td>7231.428</td>\n",
       "      <td>24038.118</td>\n",
       "    </tr>\n",
       "    <tr>\n",
       "      <th>2</th>\n",
       "      <td>Chromcraft Conference Table, with Bottom Storage</td>\n",
       "      <td>6981.360</td>\n",
       "      <td>31019.478</td>\n",
       "    </tr>\n",
       "    <tr>\n",
       "      <th>3</th>\n",
       "      <td>Nokia Smart Phone, Cordless</td>\n",
       "      <td>6743.190</td>\n",
       "      <td>37762.668</td>\n",
       "    </tr>\n",
       "    <tr>\n",
       "      <th>4</th>\n",
       "      <td>Motorola Smart Phone, Cordless</td>\n",
       "      <td>5785.020</td>\n",
       "      <td>43547.688</td>\n",
       "    </tr>\n",
       "    <tr>\n",
       "      <th>...</th>\n",
       "      <td>...</td>\n",
       "      <td>...</td>\n",
       "      <td>...</td>\n",
       "    </tr>\n",
       "    <tr>\n",
       "      <th>296</th>\n",
       "      <td>Fiskars Trimmer, Easy Grip</td>\n",
       "      <td>439.200</td>\n",
       "      <td>421024.485</td>\n",
       "    </tr>\n",
       "    <tr>\n",
       "      <th>297</th>\n",
       "      <td>StarTech Phone, White</td>\n",
       "      <td>437.580</td>\n",
       "      <td>421462.065</td>\n",
       "    </tr>\n",
       "    <tr>\n",
       "      <th>298</th>\n",
       "      <td>Tenex Trays, Industrial</td>\n",
       "      <td>437.520</td>\n",
       "      <td>421899.585</td>\n",
       "    </tr>\n",
       "    <tr>\n",
       "      <th>299</th>\n",
       "      <td>Cardinal 3-Hole Punch, Recycled</td>\n",
       "      <td>437.400</td>\n",
       "      <td>422336.985</td>\n",
       "    </tr>\n",
       "    <tr>\n",
       "      <th>300</th>\n",
       "      <td>StarTech Card Printer, White</td>\n",
       "      <td>437.157</td>\n",
       "      <td>422774.142</td>\n",
       "    </tr>\n",
       "  </tbody>\n",
       "</table>\n",
       "<p>301 rows × 3 columns</p>\n",
       "</div>"
      ],
      "text/plain": [
       "                                         Product Name      Sales  \\\n",
       "0                        Nokia Smart Phone, Full Size  16806.690   \n",
       "1                         Cisco Smart Phone, Cordless   7231.428   \n",
       "2    Chromcraft Conference Table, with Bottom Storage   6981.360   \n",
       "3                         Nokia Smart Phone, Cordless   6743.190   \n",
       "4                      Motorola Smart Phone, Cordless   5785.020   \n",
       "..                                                ...        ...   \n",
       "296                        Fiskars Trimmer, Easy Grip    439.200   \n",
       "297                             StarTech Phone, White    437.580   \n",
       "298                           Tenex Trays, Industrial    437.520   \n",
       "299                   Cardinal 3-Hole Punch, Recycled    437.400   \n",
       "300                      StarTech Card Printer, White    437.157   \n",
       "\n",
       "     SumTotalPrice  \n",
       "0        16806.690  \n",
       "1        24038.118  \n",
       "2        31019.478  \n",
       "3        37762.668  \n",
       "4        43547.688  \n",
       "..             ...  \n",
       "296     421024.485  \n",
       "297     421462.065  \n",
       "298     421899.585  \n",
       "299     422336.985  \n",
       "300     422774.142  \n",
       "\n",
       "[301 rows x 3 columns]"
      ]
     },
     "execution_count": 169,
     "metadata": {},
     "output_type": "execute_result"
    }
   ],
   "source": [
    "#Defining a variable to hold the threshold value. \n",
    "threshold = SuperstoreSalesProduct[\"Sales\"].sum() * 0.80\n",
    "\n",
    "#Using subsetting to find the products that make up 80% of the total Sales and storing it in a ariable\n",
    "SuperstoreSalesProduct80perc = SuperstoreSalesProduct[SuperstoreSalesProduct['SumTotalPrice'] <= threshold]\n",
    "SuperstoreSalesProduct80perc"
   ]
  },
  {
   "cell_type": "code",
   "execution_count": 170,
   "metadata": {},
   "outputs": [
    {
     "data": {
      "text/plain": [
       "301"
      ]
     },
     "execution_count": 170,
     "metadata": {},
     "output_type": "execute_result"
    }
   ],
   "source": [
    "SuperstoreSalesProduct80perc[\"Product Name\"].nunique()\n",
    "#All the products in the Dataframe are hence unique"
   ]
  },
  {
   "cell_type": "code",
   "execution_count": 171,
   "metadata": {},
   "outputs": [
    {
     "data": {
      "text/plain": [
       "0.30190571715145437"
      ]
     },
     "execution_count": 171,
     "metadata": {},
     "output_type": "execute_result"
    }
   ],
   "source": [
    "# Finding percentage of products contributing to top 80% Sales. We see that a relatively small subset of 30% (although not 20%) \n",
    "# of all products contribute to top 80% Sales thereby confirming our analysis.\n",
    "SuperstoreSalesProduct80perc[\"Product Name\"].nunique()/SuperstoreSalesProduct[\"Product Name\"].nunique()"
   ]
  }
 ],
 "metadata": {
  "kernelspec": {
   "display_name": "Python 3",
   "language": "python",
   "name": "python3"
  },
  "language_info": {
   "codemirror_mode": {
    "name": "ipython",
    "version": 3
   },
   "file_extension": ".py",
   "mimetype": "text/x-python",
   "name": "python",
   "nbconvert_exporter": "python",
   "pygments_lexer": "ipython3",
   "version": "3.8.5"
  }
 },
 "nbformat": 4,
 "nbformat_minor": 4
}
